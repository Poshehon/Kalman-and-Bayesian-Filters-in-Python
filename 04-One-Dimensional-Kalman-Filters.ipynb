{
 "cells": [
  {
   "cell_type": "markdown",
   "metadata": {},
   "source": [
    "[Table of Contents](./table_of_contents.ipynb)"
   ]
  },
  {
   "cell_type": "markdown",
   "metadata": {},
   "source": [
    "# One Dimensional Kalman Filters"
   ]
  },
  {
   "cell_type": "code",
   "execution_count": 20,
   "metadata": {},
   "outputs": [],
   "source": [
    "%matplotlib inline"
   ]
  },
  {
   "cell_type": "code",
   "execution_count": 21,
   "metadata": {},
   "outputs": [
    {
     "data": {
      "text/html": [
       "\n",
       "        <style>\n",
       "        .output_wrapper, .output {\n",
       "            height:auto !important;\n",
       "            max-height:100000px;\n",
       "        }\n",
       "        .output_scroll {\n",
       "            box-shadow:none !important;\n",
       "            webkit-box-shadow:none !important;\n",
       "        }\n",
       "        </style>\n",
       "    "
      ],
      "text/plain": [
       "<IPython.core.display.HTML object>"
      ]
     },
     "execution_count": 21,
     "metadata": {},
     "output_type": "execute_result"
    }
   ],
   "source": [
    "#format the book\n",
    "import book_format\n",
    "book_format.set_style()"
   ]
  },
  {
   "cell_type": "markdown",
   "metadata": {},
   "source": [
    "Now that we understand the discrete Bayes filter and Gaussians we are prepared to implement a Kalman filter. We will do this exactly as we did the discrete Bayes filter - rather than starting with equations we will develop the code step by step based on reasoning about the problem. \n",
    "\n",
    "\"One dimensional\" means that the filter only tracks one state variable, such as position on the x-axis. In subsequent chapters we will learn a more general multidimensional form of the filter that can track many state variables simultaneously, such as position, velocity, and acceleration. Recall that we used velocity in the g-h filter to get better estimates than by tracking position alone. The same is true for the Kalman filter.\n",
    "\n",
    "So why not just jump into the multidimensional form of the filter? To be honest, the math is difficult, and my intuitive approach to developing the filter starts to break down. This math obscures the rather simple principles that allow the Kalman filter to work.\n",
    "\n",
    "So, in this chapter we learn how to use Gaussians to implement a Bayesian filter. That's all the Kalman filter is - a Bayesian filter that uses Gaussians. In the next chapter we will switch to a multidimensional form and the full power of the Kalman filter will be unleashed!"
   ]
  },
  {
   "cell_type": "markdown",
   "metadata": {},
   "source": [
    "## Problem Description\n",
    "\n",
    "As in the **Discrete Bayes Filter** chapter we will be tracking a moving object in a long hallway at work. Assume that in our latest hackathon someone created an RFID tracker that provides a reasonably accurate position of the dog. The sensor returns the distance of the dog from the left end of the hallway in meters. So, 23.4 would mean the dog is 23.4 meters from the left end of the hallway.\n",
    "\n",
    "The sensor is not perfect. A reading of 23.4 could correspond to the dog being at 23.7, or 23.0. However, it is very unlikely to correspond to a position of 47.6. Testing during the hackathon confirmed this result - the sensor is 'reasonably' accurate, and while it had errors, the errors are small. Furthermore, the errors seemed to be evenly distributed on both sides of the true position; a position of 23 m would equally likely be measured as 22.9 or 23.1. Perhaps we can model this with a Gaussian.\n",
    "\n",
    "We predict that the dog is moving. This prediction is not perfect. Sometimes our prediction will overshoot, sometimes it will undershoot. We are more likely to undershoot or overshoot by a little than a lot. Perhaps we can also model this with a Gaussian."
   ]
  },
  {
   "cell_type": "markdown",
   "metadata": {},
   "source": [
    "## Beliefs as Gaussians\n",
    "\n",
    "We can express our belief in the dog's position with a Gaussian. Say we believe that our dog is at 10 meters, and the variance in that belief is 1 m$^2$, or $\\mathcal{N}(10,\\, 1)$. A plot of the pdf follows:"
   ]
  },
  {
   "cell_type": "code",
   "execution_count": 22,
   "metadata": {},
   "outputs": [],
   "source": [
    "import filterpy.stats as stats\n",
    "stats.plot_gaussian_pdf(mean=10., variance=1., \n",
    "                        xlim=(4, 16), ylim=(0, .5));"
   ]
  },
  {
   "cell_type": "markdown",
   "metadata": {},
   "source": [
    "This plot depicts our uncertainty about the dog's position. It represents a fairly inexact belief. While we believe that it is most likely that the dog is at 10 m, any position from 9 m to 11 m or so are quite likely as well. Assume the dog is standing still, and we query the sensor again. This time it returns 10.2 m. Can we use this additional information to improve our estimate?\n",
    "\n",
    "Intuition suggests we can. Consider: if we read the sensor 500 times and each time it returned a value between 8 and 12, all centered around 10, we should be very confident that the dog is near 10. Of course, a different interpretation is possible. Perhaps our dog was randomly wandering back and forth in a way that exactly emulated random draws from a normal distribution. But that seems extremely unlikely - I've never seen a dog do that. Let's look at 500 draws from $\\mathcal N(10, 1)$:"
   ]
  },
  {
   "cell_type": "code",
   "execution_count": 23,
   "metadata": {},
   "outputs": [
    {
     "name": "stdout",
     "output_type": "stream",
     "text": [
      "Mean of readings is 9.939\n"
     ]
    }
   ],
   "source": [
    "import numpy as np\n",
    "from numpy.random import randn\n",
    "import matplotlib.pyplot as plt\n",
    "\n",
    "xs = range(500)\n",
    "ys = randn(500)*1. + 10.\n",
    "plt.plot(xs, ys)\n",
    "print(f'Mean of readings is {np.mean(ys):.3f}')"
   ]
  },
  {
   "cell_type": "markdown",
   "metadata": {},
   "source": [
    "Eyeballing this confirms our intuition - no dog moves like this. However, noisy sensor data certainly looks this way.  The computed mean of the readings is almost exactly 10. Assuming the dog is standing still, we say the dog is at position 10 with a variance of 1."
   ]
  },
  {
   "cell_type": "markdown",
   "metadata": {},
   "source": [
    "## Tracking with Gaussian Probabilities\n",
    "\n",
    "The discrete Bayes filter used a histogram of probabilities to track the dog. Each bin in the histogram represents a position, and the value is the probability of the dog being in that position.\n",
    "\n",
    "Tracking was performed with a cycle of predictions and updates. We used the equations \n",
    "\n",
    "$$\\begin{aligned} \n",
    "\\bar {\\mathbf x} &= \\mathbf x \\ast f_{\\mathbf x}(\\bullet)\\, \\, &\\text{Predict} \\\\\n",
    "\\mathbf x &= \\mathcal L \\cdot \\bar{\\mathbf x}\\, \\, &\\text{Update}\n",
    "\\end{aligned}$$\n",
    "\n",
    "to compute the new probability distributions. Recall that $\\bar{\\mathbf x}$ is the *prior*, $\\mathcal L$ is the *likelihood* of a measurement given the prior $\\bar{\\mathbf x}$, $f_{\\mathbf x}(\\bullet)$ is the *process model*, and $\\ast$ denotes *convolution*. $\\mathbf x$ is bold to denote that it is a histogram of numbers, or a vector.\n",
    "\n",
    "This method works, but led to histograms that implied the dog could be in multiple places at once. Also, the computations are very slow for large problems.\n",
    "\n",
    "Can we replace $\\mathbf x$, the histogram, with a Gaussian $\\mathcal N(x, \\sigma^2)$? Absolutely! We've learned how to express belief as a Gaussian. A Gaussian, which is a single number pair $\\mathcal N(\\mu, \\sigma^2),$ can replace an entire histogram of probabilities:"
   ]
  },
  {
   "cell_type": "code",
   "execution_count": 24,
   "metadata": {},
   "outputs": [],
   "source": [
    "import kf_book.kf_internal as kf_internal\n",
    "kf_internal.gaussian_vs_histogram()"
   ]
  },
  {
   "cell_type": "markdown",
   "metadata": {},
   "source": [
    "I hope you see the power of this. We can replace hundreds to thousands of numbers with a single pair of numbers: $x = \\mathcal N(\\mu, \\sigma^2)$. \n",
    "\n",
    "The tails of the Gaussian extend to infinity on both sides, so it incorporates arbitrarily many bars in the histogram. If this represents our belief in the position of the dog in the hallway, this one Gaussian covers the entire hallway (and the entire universe on that axis). We think that it is likely the dog is at 10, but he could be at 8, 14, or, with infinitesimally small probability, at 10$^{80}$. \n",
    "\n",
    "In this chapter we replace histograms with Gaussians:\n",
    "\n",
    "$$\\begin{array}{l|l|c}\n",
    "\\text{discrete Bayes} & \\text{Gaussian} & \\text{Step}\\\\\n",
    "\\hline\n",
    "\\bar {\\mathbf x} = \\mathbf x \\ast f(\\mathbf x) & \n",
    "\\bar {x}_\\mathcal{N} =  x_\\mathcal{N} \\, \\oplus \\, f_{x_\\mathcal{N}}(\\bullet) &\n",
    "\\text{Predict} \\\\\n",
    "\\mathbf x = \\|\\mathcal L \\bar{\\mathbf x}\\| & x_\\mathcal{N} = L \\, \\otimes \\, \\bar{x}_\\mathcal{N} & \\text{Update} \n",
    "\\end{array}$$\n",
    "\n",
    "where $\\oplus$ and $\\otimes$ is meant to express some unknown operator on Gaussians. I won't do it in the rest of the book, but the subscript indicates that $x_\\mathcal{N}$ is a Gaussian. \n",
    "\n",
    "The discrete Bayes filter used convolution for the prediction. We showed that it used the *total probabability theorem*, computed as a sum, so maybe we can add the Gaussians. It used multiplications to incorporate the measurement into the prior, so maybe we can multiply the Gaussians. Could it be this easy:\n",
    "\n",
    "$$\\begin{aligned} \n",
    "\\bar x &\\stackrel{?}{=} x + f_x(\\bullet) \\\\\n",
    "x &\\stackrel{?}{=} \\mathcal L \\cdot \\bar x\n",
    "\\end{aligned}$$\n",
    "\n",
    "This will only work if the sum and product of two Gaussians is another Gaussian. Otherwise after the first epoch $x$ would not be Gaussian, and this scheme falls apart."
   ]
  },
  {
   "cell_type": "markdown",
   "metadata": {},
   "source": [
    "## Predictions with Gaussians\n",
    "\n",
    "We use Newton's equation of motion to compute current position based on the current velocity and previous position:\n",
    "\n",
    "$$ \\begin{aligned}\\bar{x}_k &= x_{k-1} + v_k \\Delta t \\\\\n",
    " &= x_{k-1} + f_x\\end{aligned}$$\n",
    "\n",
    "I've dropped the notation $f_x(\\bullet)$ in favor of $f_x$ to keep the equations uncluttered. \n",
    "\n",
    "If the dog is at 10 m, his velocity is 15 m/s, and the epoch is 2 seconds long, we have\n",
    "\n",
    "$$ \\begin{aligned} f_x &= v\\Delta t = 15\\cdot 2\\\\\n",
    "\\bar{x}_k &= 10 + (15\\cdot 2) = 40 \\end{aligned}$$\n",
    "\n",
    "We are uncertain about his current position and velocity, so this will not do. We need to express the uncertainty with a Gaussian.\n",
    "\n",
    "Position is easy. We define $x$ as a Gaussian. If we think the dog is at 10 m, and the standard deviation of our uncertainty is 0.2 m, we get $x=\\mathcal N(10, 0.2^2)$.\n",
    "\n",
    "What about our uncertainty in his movement? We define $f_x$ as a Gaussian. If the dog's velocity is 15 m/s, the epoch is 1 second, and the standard deviation of our uncertainty is 0.7 m/s, we get $f_x = \\mathcal N (15, 0.7^2)$.\n",
    "\n",
    "The equation for the prior is \n",
    "\n",
    "$$\\bar x = x + f_x$$\n",
    "\n",
    "What is the sum of two Gaussians? In the last chapter I proved that:\n",
    "\n",
    "$$\\begin{gathered}\n",
    "\\mu = \\mu_1 + \\mu_2 \\\\\n",
    "\\sigma^2 = \\sigma^2_1 + \\sigma^2_2\n",
    "\\end{gathered}$$\n",
    "\n",
    "This is fantastic news; the sum of two Gaussians is another Gaussian! \n",
    "\n",
    "The math works, but does this make intuitive sense?  Think of the physical representation of this abstract equation. We have \n",
    "\n",
    "$$\\begin{gathered}\n",
    "x=\\mathcal N(10, 0.2^2)\\\\\n",
    "f_x = \\mathcal N (15, 0.7^2)\n",
    "\\end{gathered}$$\n",
    "\n",
    "If we add these we get:\n",
    "\n",
    "$$\\begin{aligned}\\bar x &= \\mu_x + \\mu_{f_x} = 10 + 15 &&= 25 \\\\\n",
    "\\bar\\sigma^2 &= \\sigma_x^2 + \\sigma_{f_x}^2 = 0.2^2 + 0.7^2 &&= 0.53\\end{aligned}$$\n",
    "\n",
    "It makes sense that the predicted position is the previous position plus the movement. What about the variance? It is harder to form an intuition about this. However, recall that with the `predict()` function for the discrete Bayes filter we always lost information. We don't really know where the dog is moving, so the confidence should get smaller (variance gets larger). $\\sigma_{f_x}^2$ is the amount of uncertainty added to the system due to the imperfect prediction about the movement, and so we would add that to the existing uncertainty. \n",
    "\n",
    "Let's take advantage of the `namedtuple` class in Python's `collection` module to implement a Gaussian object. We could implement a Gaussian using a tuple, where $\\mathcal N(10, 0.04)$ is implemented in Python as `g = (10., 0.04)`. We would access the mean with `g[0]` and the variance with `g[1]`.\n",
    "\n",
    "`namedtuple` works the same as a tuple, except you provide it with a type name and field names. It's not important to understand, but I modified the `__repr__` method to display its value using the notation in this chapter. "
   ]
  },
  {
   "cell_type": "code",
   "execution_count": 25,
   "metadata": {},
   "outputs": [],
   "source": [
    "from collections import namedtuple\n",
    "gaussian = namedtuple('Gaussian', ['mean', 'var'])\n",
    "gaussian.__repr__ = lambda s: f'𝒩(μ={s[0]:.3f}, 𝜎²={s[1]:.3f})'"
   ]
  },
  {
   "cell_type": "markdown",
   "metadata": {},
   "source": [
    "Now we can create a print a Gaussian with:"
   ]
  },
  {
   "cell_type": "code",
   "execution_count": 26,
   "metadata": {},
   "outputs": [
    {
     "name": "stdout",
     "output_type": "stream",
     "text": [
      "𝒩(μ=3.400, 𝜎²=10.100)\n",
      "𝒩(μ=4.500, 𝜎²=0.040)\n"
     ]
    }
   ],
   "source": [
    "g1 = gaussian(3.4, 10.1)\n",
    "g2 = gaussian(mean=4.5, var=0.2**2)\n",
    "print(g1)\n",
    "print(g2)"
   ]
  },
  {
   "cell_type": "markdown",
   "metadata": {},
   "source": [
    "We can access the mean and variance with either subscripts or field names:"
   ]
  },
  {
   "cell_type": "code",
   "execution_count": 27,
   "metadata": {},
   "outputs": [
    {
     "data": {
      "text/plain": [
       "(3.4, 3.4, 10.1, 10.1)"
      ]
     },
     "execution_count": 27,
     "metadata": {},
     "output_type": "execute_result"
    }
   ],
   "source": [
    "g1.mean, g1[0], g1[1], g1.var"
   ]
  },
  {
   "cell_type": "markdown",
   "metadata": {},
   "source": [
    "Here is our implementation of the predict function, where `pos` and `movement` are Gaussian tuples in the form ($\\mu$, $\\sigma^2$):"
   ]
  },
  {
   "cell_type": "code",
   "execution_count": 28,
   "metadata": {},
   "outputs": [],
   "source": [
    "def predict(pos, movement):\n",
    "    return gaussian(pos.mean + movement.mean, pos.var + movement.var)"
   ]
  },
  {
   "cell_type": "markdown",
   "metadata": {},
   "source": [
    "Let's test it. What is the prior if the intitial position is the Gaussian $\\mathcal N(10, 0.2^2)$ and the movement is the Gaussian $\\mathcal N (15, 0.7^2)$?"
   ]
  },
  {
   "cell_type": "code",
   "execution_count": 29,
   "metadata": {},
   "outputs": [
    {
     "data": {
      "text/plain": [
       "𝒩(μ=25.000, 𝜎²=0.530)"
      ]
     },
     "execution_count": 29,
     "metadata": {},
     "output_type": "execute_result"
    }
   ],
   "source": [
    "pos = gaussian(10., .2**2)\n",
    "move = gaussian(15., .7**2)\n",
    "predict(pos, move)"
   ]
  },
  {
   "cell_type": "markdown",
   "metadata": {},
   "source": [
    "The prior states that the dog is at 25 m with a variance of 0.53 m$^2$, which is what we computed by hand."
   ]
  },
  {
   "cell_type": "markdown",
   "metadata": {},
   "source": [
    "## Updates with Gaussians\n",
    "\n",
    "The discrete Bayes filter encodes our belief about the position of our dog in a histogram of probabilities. The distribution is discrete and multimodal. It can express strong belief that the dog is in two positions at once, and the positions are discrete.\n",
    "\n",
    "We are proposing that we replace the histogram with a Gaussian. The discrete Bayes filter used this code to compute the posterior:\n",
    "\n",
    "\n",
    "```python\n",
    "def update(likelihood, prior):\n",
    "    posterior = likelihood * prior\n",
    "    return normalize(posterior)\n",
    "```\n",
    "\n",
    "which is an implementation of the equation:\n",
    "\n",
    "$$x = \\| \\mathcal L\\bar x \\|$$\n",
    "\n",
    "We've just shown that we can represent the prior with a Gaussian. What about the likelihood? The likelihood is the probability of the measurement given the current state. We've learned how to represent measurements as Gaussians. For example, maybe our sensor states that the dog is at 23 m, with a standard deviation of 0.4 meters. Our measurement, expressed as a likelihood, is $z = \\mathcal N (23, 0.16)$.\n",
    "\n",
    "Both the likelihood and prior are modeled with Gaussians. Can we multiply Gaussians? Is the product of two Gaussians another Gaussian?\n",
    "\n",
    "Yes to the former, and almost to the latter! In the last chapter I proved that the product of two Gaussians is proportional to another Gausian. \n",
    "\n",
    "$$\\begin{aligned}\n",
    "\\mu &= \\frac{\\sigma_1^2 \\mu_2 + \\sigma_2^2 \\mu_1} {\\sigma_1^2 + \\sigma_2^2}, \\\\\n",
    "\\sigma^2 &= \\frac{\\sigma_1^2\\sigma_2^2}{\\sigma_1^2+\\sigma_2^2}\n",
    "\\end{aligned}$$\n",
    "\n",
    "We can immediately infer several things. If we normalize the result, the product is another Gaussian. If one Gaussian is the likelihood, and the second is the prior, then the mean is a scaled sum of the prior and the measurement. The variance is a combination of the variances of the prior and measurement. Finally, the variances are completely unaffected by the values of the mean!\n",
    "\n",
    "We put this in Bayesian terms like so:\n",
    "\n",
    "$$\\begin{aligned}\n",
    "\\mathcal N(\\mu, \\sigma^2) &= \\| prior \\cdot likelihood \\|\\\\\n",
    "&= \\| \\mathcal{N}(\\bar\\mu, \\bar\\sigma^2)\\cdot \\mathcal{N}(\\mu_z, \\sigma_z^2) \\|\\\\\n",
    "&= \\mathcal N(\\frac{\\bar\\sigma^2 \\mu_z + \\sigma_z^2 \\bar\\mu}{\\bar\\sigma^2 + \\sigma_z^2},\\frac{\\bar\\sigma^2\\sigma_z^2}{\\bar\\sigma^2 + \\sigma_z^2})\n",
    "\\end{aligned}$$\n",
    "\n",
    "If we implemented that in a function `gaussian_multiply()` we could implement our filter's update step as"
   ]
  },
  {
   "cell_type": "code",
   "execution_count": 30,
   "metadata": {},
   "outputs": [
    {
     "data": {
      "text/plain": [
       "𝒩(μ=10.800, 𝜎²=0.008)"
      ]
     },
     "execution_count": 30,
     "metadata": {},
     "output_type": "execute_result"
    }
   ],
   "source": [
    "def gaussian_multiply(g1, g2):\n",
    "    mean = (g1.var * g2.mean + g2.var * g1.mean) / (g1.var + g2.var)\n",
    "    variance = (g1.var * g2.var) / (g1.var + g2.var)\n",
    "    return gaussian(mean, variance)\n",
    "\n",
    "def update(prior, likelihood):\n",
    "    posterior = gaussian_multiply(likelihood, prior)\n",
    "    return posterior\n",
    "\n",
    "# test the update function\n",
    "predicted_pos = gaussian(10., .2**2)\n",
    "measured_pos = gaussian(11., .1**2)\n",
    "estimated_pos = update(predicted_pos, measured_pos)\n",
    "estimated_pos"
   ]
  },
  {
   "cell_type": "markdown",
   "metadata": {},
   "source": [
    "Perhaps this would be clearer if we used more specific names:\n",
    "\n",
    "```python\n",
    "def update_dog(dog_pos, measurement):\n",
    "    estimated_pos = gaussian_multiply(measurement, dog_pos)\n",
    "    return estimated_pos  \n",
    "```\n",
    "\n",
    "That is less abstract, which perhaps helps with comprehension, but it is poor coding practice. We are writing a Kalman filter that works for any problem, not just tracking dogs in a hallway, so we won't use variable names with 'dog' in them. Also, this form obscures the fact that we are multiplying the likelihood by the prior.\n",
    "\n",
    "We have the majority of our filter implemented, but I fear this step is still a bit confusing. I've asserted that we can multiply Gaussians and that it correctly performs the update step, but why is this true? Let's take a detour and spend some time multiplying Gaussians."
   ]
  },
  {
   "cell_type": "markdown",
   "metadata": {},
   "source": [
    "### Understanding Gaussian Multiplication\n",
    "\n",
    "Let's plot the pdf of $\\mathcal{N}(10,\\, 1) \\times \\mathcal{N}(10,\\, 1)$. Can you determine its shape without looking at the result? What should the new mean be? Will the curve be wider, narrower, or the same as $\\mathcal{N}(10,\\, 1)$?"
   ]
  },
  {
   "cell_type": "code",
   "execution_count": 31,
   "metadata": {},
   "outputs": [
    {
     "name": "stdout",
     "output_type": "stream",
     "text": [
      "𝒩(μ=10.000, 𝜎²=0.500)\n"
     ]
    },
    {
     "name": "stderr",
     "output_type": "stream",
     "text": [
      "<>:7: SyntaxWarning: invalid escape sequence '\\m'\n",
      "<>:10: SyntaxWarning: invalid escape sequence '\\m'\n",
      "<>:7: SyntaxWarning: invalid escape sequence '\\m'\n",
      "<>:10: SyntaxWarning: invalid escape sequence '\\m'\n",
      "/var/folders/6y/7yzhbwpn7k578ky8zsq56h4r0000gn/T/ipykernel_11614/2410115134.py:7: SyntaxWarning: invalid escape sequence '\\m'\n",
      "  plt.plot(xs, ys, label='$\\mathcal{N}(10,1)$')\n",
      "/var/folders/6y/7yzhbwpn7k578ky8zsq56h4r0000gn/T/ipykernel_11614/2410115134.py:10: SyntaxWarning: invalid escape sequence '\\m'\n",
      "  plt.plot(xs, ys, label='$\\mathcal{N}(10,1) \\\\times \\mathcal{N}(10,1)$', ls='--')\n"
     ]
    }
   ],
   "source": [
    "z = gaussian(10., 1.)  # Gaussian N(10, 1)\n",
    "\n",
    "product = gaussian_multiply(z, z)\n",
    "\n",
    "xs = np.arange(5, 15, 0.1)\n",
    "ys = [stats.gaussian(x, z.mean, z.var) for x in xs]\n",
    "plt.plot(xs, ys, label='$\\mathcal{N}(10,1)$')\n",
    "\n",
    "ys = [stats.gaussian(x, product.mean, product.var) for x in xs]\n",
    "plt.plot(xs, ys, label='$\\mathcal{N}(10,1) \\\\times \\mathcal{N}(10,1)$', ls='--')\n",
    "plt.legend()\n",
    "print(product)"
   ]
  },
  {
   "cell_type": "markdown",
   "metadata": {},
   "source": [
    "The result of the multiplication is taller and narrow than the original Gaussian but the mean is unchanged. Does this match your intuition?\n",
    "\n",
    "Think of the Gaussians as two measurements. If I measure twice and get 10 meters each time, I should conclude that the length is close to 10 meters. Thus the mean should be 10. It would make no sense to conclude the length is actually 11, or 9.5. Also, I am more confident with two measurements than with one, so the variance of the result should be smaller. \n",
    "\n",
    "\"Measure twice, cut once\" is a well known saying. Gaussian multiplication is a mathematical model of this physical fact. \n",
    "\n",
    "I'm unlikely to get the same measurement twice in a row. Now let's plot the pdf of $\\mathcal{N}(10.2,\\, 1) \\times \\mathcal{N}(9.7,\\, 1)$. What do you think the result will be? Think about it, and then look at the graph."
   ]
  },
  {
   "cell_type": "code",
   "execution_count": 32,
   "metadata": {},
   "outputs": [
    {
     "data": {
      "text/plain": [
       "'$(3.3,3.3)$'"
      ]
     },
     "execution_count": 32,
     "metadata": {},
     "output_type": "execute_result"
    }
   ],
   "source": [
    "m = 3.3\n",
    "f'$({m},{m})$'"
   ]
  },
  {
   "cell_type": "code",
   "execution_count": 33,
   "metadata": {},
   "outputs": [
    {
     "name": "stderr",
     "output_type": "stream",
     "text": [
      "<>:7: SyntaxWarning: invalid escape sequence '\\m'\n",
      "<>:10: SyntaxWarning: invalid escape sequence '\\m'\n",
      "<>:7: SyntaxWarning: invalid escape sequence '\\m'\n",
      "<>:10: SyntaxWarning: invalid escape sequence '\\m'\n",
      "/var/folders/6y/7yzhbwpn7k578ky8zsq56h4r0000gn/T/ipykernel_11614/1868224627.py:7: SyntaxWarning: invalid escape sequence '\\m'\n",
      "  plt.plot(xs, ys, label='$\\mathcal{N}$' + f'$({g1.mean},{g1.var})$')\n",
      "/var/folders/6y/7yzhbwpn7k578ky8zsq56h4r0000gn/T/ipykernel_11614/1868224627.py:10: SyntaxWarning: invalid escape sequence '\\m'\n",
      "  plt.plot(xs, ys, label='$\\mathcal{N}$' + '$({g2.mean},{ge.var})$')\n"
     ]
    },
    {
     "data": {
      "image/png": "[encoded data removed]",
      "text/plain": [
       "<Figure size 900x400 with 1 Axes>"
      ]
     },
     "metadata": {},
     "output_type": "display_data"
    },
    {
     "data": {
      "image/png": "[encoded data removed]",
      "text/plain": [
       "<Figure size 900x400 with 1 Axes>"
      ]
     },
     "metadata": {},
     "output_type": "display_data"
    }
   ],
   "source": [
    "def plot_products(g1, g2): \n",
    "    plt.figure()\n",
    "    product = gaussian_multiply(g1, g2)\n",
    "\n",
    "    xs = np.arange(5, 15, 0.1)\n",
    "    ys = [stats.gaussian(x, g1.mean, g1.var) for x in xs]\n",
    "    plt.plot(xs, ys, label='$\\mathcal{N}$' + f'$({g1.mean},{g1.var})$')\n",
    "\n",
    "    ys = [stats.gaussian(x, g2.mean, g2.var) for x in xs]\n",
    "    plt.plot(xs, ys, label='$\\mathcal{N}$' + '$({g2.mean},{ge.var})$')\n",
    "\n",
    "    ys = [stats.gaussian(x, product.mean, product.var) for x in xs]\n",
    "    plt.plot(xs, ys, label='product', ls='--')\n",
    "    plt.legend();\n",
    "    plt.show()\n",
    "    \n",
    "z1 = gaussian(10.2, 1)\n",
    "z2 = gaussian(9.7, 1)\n",
    " \n",
    "plot_products(z1, z2)"
   ]
  },
  {
   "cell_type": "markdown",
   "metadata": {},
   "source": [
    "If you ask two people to measure the distance of a table from a wall, and one gets 10.2 meters, and the other got 9.7 meters, your best guess must be the average, 9.95 meters if you trust the skills of both equally.\n",
    "\n",
    "Recall the g-h filter. We agreed that if I weighed myself on two scales, and the first read 160 lbs while the second read 170 lbs, and both were equally accurate, the best estimate was 165 lbs. Furthermore I should be a bit more confident about 165 lbs vs 160 lbs or 170 lbs because I now have two readings, both near this estimate, increasing my confidence that neither is wildly wrong. \n",
    "\n",
    "This becomes counter-intuitive in more complicated situations, so let's consider it further. Perhaps a more reasonable assumption would be that one person made a mistake, and the true distance is either 10.2 or 9.7, but certainly not 9.95. Surely that is possible. But we know we have noisy measurements, so we have no reason to think one of the measurements has no noise, or that one person made a gross error that allows us to discard their measurement. Given all available information, the best estimate must be 9.95.\n",
    "\n",
    "In the update step of the Kalman filter we are not combining two measurements, but one measurement and the prior, our estimate before incorporating the measurement. We went through this logic for the g-h filter. It doesn't matter if we are incorporating information from two measurements, or a measurement and a prediction, the math is the same. \n",
    "\n",
    "Let's look at that. I'll create a fairly inaccurate prior of $\\mathcal N(8.5, 1.5)$ and a more accurate measurement of $\\mathcal N(10.2, 0.5).$ By \"accurate\" I mean the sensor variance is smaller than the prior's variance, not that I somehow know that the dog is closer to 10.2 than 8.5. Next I'll plot the reverse relationship: an accurate prior of $\\mathcal N(8.5, 0.5)$ and a inaccurate measurement of $\\mathcal N(10.2, 1.5)$."
   ]
  },
  {
   "cell_type": "code",
   "execution_count": 34,
   "metadata": {},
   "outputs": [
    {
     "data": {
      "image/png": "[encoded data removed]",
      "text/plain": [
       "<Figure size 900x400 with 1 Axes>"
      ]
     },
     "metadata": {},
     "output_type": "display_data"
    },
    {
     "data": {
      "image/png": "[encoded data removed]",
      "text/plain": [
       "<Figure size 900x400 with 1 Axes>"
      ]
     },
     "metadata": {},
     "output_type": "display_data"
    }
   ],
   "source": [
    "prior, z = gaussian(8.5, 1.5), gaussian(10.2, 0.5)\n",
    "plot_products(prior, z)\n",
    "\n",
    "prior, z = gaussian(8.5, 0.5), gaussian(10.2, 1.5)\n",
    "plot_products(prior, z)"
   ]
  },
  {
   "cell_type": "markdown",
   "metadata": {},
   "source": [
    "The result is a Gaussian that is taller than either input. This makes sense - we have incorporated information, so our variance should have been reduced. And notice how the result is far closer to the the input with the smaller variance. We have more confidence in that value, so it makes sense to weight it more heavily.\n",
    "\n",
    "It *seems* to work, but is it really correct? There is more to say about this, but I want to get a working filter going so you can experience it in concrete terms. After that we will revisit Gaussian multiplication and determine why it is correct."
   ]
  },
  {
   "cell_type": "markdown",
   "metadata": {},
   "source": [
    "### Interactive Example\n",
    "\n",
    "This interactive code provides sliders to alter the mean and variance of two Gaussians that are being multiplied together. As you move the sliders the plot is redrawn. Place your cursor inside the code cell and press CTRL+Enter to execute it."
   ]
  },
  {
   "cell_type": "code",
   "execution_count": 35,
   "metadata": {},
   "outputs": [
    {
     "data": {
      "application/vnd.jupyter.widget-view+json": {
       "model_id": "2047dec8ca4e4e90990fd605225c0e03",
       "version_major": 2,
       "version_minor": 0
      },
      "text/plain": [
       "interactive(children=(FloatSlider(value=7.5, description='m1', max=10.0, min=5.0, step=0.5), FloatSlider(value…"
      ]
     },
     "metadata": {},
     "output_type": "display_data"
    }
   ],
   "source": [
    "from ipywidgets import interact\n",
    "\n",
    "def interactive_gaussian(m1, m2, v1, v2):\n",
    "    g1 = gaussian(m1, v1)\n",
    "    g2 = gaussian(m2, v2)\n",
    "    plot_products(g1, g2)\n",
    "    \n",
    "interact(interactive_gaussian,\n",
    "         m1=(5, 10., .5), m2=(10, 15, .5), \n",
    "         v1=(.1, 2, .1), v2=(.1, 2, .1));"
   ]
  },
  {
   "cell_type": "markdown",
   "metadata": {},
   "source": [
    "## First Kalman Filter\n",
    "\n",
    "Let's get back to concrete terms and implement a Kalman filter. We've implemented the `update()` and `predict()` functions. We just need to write some boilerplate code to simulate a dog and create the measurements. I've put a `DogSimulation` class in `kf_internal` to avoid getting distracted with that task. \n",
    "\n",
    "This boilerplate code sets up the problem by definine the means, variances, and generating the simulated dog movement."
   ]
  },
  {
   "cell_type": "code",
   "execution_count": 36,
   "metadata": {},
   "outputs": [],
   "source": [
    "import kf_book.kf_internal as kf_internal\n",
    "from kf_book.kf_internal import DogSimulation\n",
    "\n",
    "np.random.seed(13)\n",
    "\n",
    "process_var = 1. # variance in the dog's movement\n",
    "sensor_var = 2. # variance in the sensor\n",
    "\n",
    "x = gaussian(0., 20.**2)  # dog's position, N(0, 20**2)\n",
    "velocity = 1\n",
    "dt = 1. # time step in seconds\n",
    "process_model = gaussian(velocity*dt, process_var) # displacement to add to x\n",
    "  \n",
    "# simulate dog and get measurements\n",
    "dog = DogSimulation(\n",
    "    x0=x.mean, \n",
    "    velocity=process_model.mean, \n",
    "    measurement_var=sensor_var, \n",
    "    process_var=process_model.var)\n",
    "\n",
    "# create list of measurements\n",
    "zs = [dog.move_and_sense() for _ in range(10)]"
   ]
  },
  {
   "cell_type": "markdown",
   "metadata": {},
   "source": [
    "And here is the Kalman filter."
   ]
  },
  {
   "cell_type": "code",
   "execution_count": 37,
   "metadata": {},
   "outputs": [
    {
     "name": "stdout",
     "output_type": "stream",
     "text": [
      "PREDICT\t\t\tUPDATE\n",
      "     x      var\t\t  z\t    x      var\n",
      "  1.000  401.000\t1.354\t  1.352   1.990\n",
      "  2.352    2.990\t1.882\t  2.070   1.198\n",
      "  3.070    2.198\t4.341\t  3.736   1.047\n",
      "  4.736    2.047\t7.156\t  5.960   1.012\n",
      "  6.960    2.012\t6.939\t  6.949   1.003\n",
      "  7.949    2.003\t6.844\t  7.396   1.001\n",
      "  8.396    2.001\t9.847\t  9.122   1.000\n",
      " 10.122    2.000\t12.553\t 11.338   1.000\n",
      " 12.338    2.000\t16.273\t 14.305   1.000\n",
      " 15.305    2.000\t14.800\t 15.053   1.000\n",
      "\n",
      "final estimate:            15.053\n",
      "actual final position:     14.838\n"
     ]
    }
   ],
   "source": [
    "print('PREDICT\\t\\t\\tUPDATE')\n",
    "print('     x      var\\t\\t  z\\t    x      var')\n",
    "\n",
    "# perform Kalman filter on measurement z\n",
    "for z in zs:    \n",
    "    prior = predict(x, process_model)\n",
    "    likelihood = gaussian(z, sensor_var)\n",
    "    x = update(prior, likelihood)\n",
    "\n",
    "    kf_internal.print_gh(prior, x, z)\n",
    "\n",
    "print()\n",
    "print(f'final estimate:        {x.mean:10.3f}')\n",
    "print(f'actual final position: {dog.x:10.3f}')"
   ]
  },
  {
   "cell_type": "markdown",
   "metadata": {},
   "source": [
    "Here is an animation of the filter. Predictions are plotted with a red triangle. After the prediction, the filter receives the next measurement, plotted as a black circle. The filter then forms an estimate part way between the two. "
   ]
  },
  {
   "cell_type": "code",
   "execution_count": 38,
   "metadata": {},
   "outputs": [
    {
     "ename": "IndentationError",
     "evalue": "expected an indented block after 'for' statement on line 11 (2959206410.py, line 12)",
     "output_type": "error",
     "traceback": [
      "\u001b[0;36m  Cell \u001b[0;32mIn[38], line 12\u001b[0;36m\u001b[0m\n\u001b[0;31m    prior = predict(x, process_model)\u001b[0m\n\u001b[0m    ^\u001b[0m\n\u001b[0;31mIndentationError\u001b[0m\u001b[0;31m:\u001b[0m expected an indented block after 'for' statement on line 11\n"
     ]
    }
   ],
   "source": [
    "from kf_book import book_plots as book_plots\n",
    "from ipywidgets.widgets import IntSlider\n",
    "\n",
    "from kf_book import book_plots as book_plots\n",
    "from ipywidgets.widgets import IntSlider\n",
    "# save output in these lists for plotting\n",
    "xs, predictions = [], []\n",
    "process_model = gaussian(velocity, process_var)\n",
    "# perform Kalman filter\n",
    "x = gaussian(0., 20.**2)\n",
    "for z in zs:\n",
    "    prior = predict(x, process_model)\n",
    "    likelihood = gaussian(z, sensor_var)\n",
    "    x = update(prior, likelihood)\n",
    "# save results\n",
    "predictions.append(prior.mean)\n",
    "xs.append(x.mean)\n",
    "def plot_filter(step):\n",
    "plt.cla()\n",
    "step -= 1\n",
    "i = step // 3 + 1\n",
    "book_plots.plot_predictions(predictions[:i])\n",
    "if step % 3 == 0:\n",
    "book_plots.plot_measurements(zs[:i-1])\n",
    "book_plots.plot_filter(xs[:i-1])\n",
    "elif step % 3 == 1:\n",
    "book_plots.plot_measurements(zs[:i])\n",
    "book_plots.plot_filter(xs[:i-1])\n",
    "else:\n",
    "book_plots.plot_measurements(zs[:i])\n",
    "book_plots.plot_filter(xs[:i])\n",
    "plt.xlim(-1, 10)\n",
    "plt.ylim(0, 20)\n",
    "plt.legend(loc=2);\n",
    "interact(plot_filter, step=IntSlider(value=1, min=1, max=len(predictions)*3));"
   ]
  },
  {
   "cell_type": "markdown",
   "metadata": {},
   "source": [
    "I've plotted the prior (labeled *prediction*), the measurements, and the filter output. For each iteration of the loop we form a prior, take a measurement, form a likelihood from the measurement, and then incorporate the likelihood into the prior. \n",
    "\n",
    "If you look at the plot you can see that the filter estimate is always between the measurement and prediction. Recall that for the g-h filter we argued that the estimate must always be between the measurement and prior. It makes no sense to choose a value outside of the two values. If I predict I am at 10, but measure that I am at 9, it would be foolish to decide that I must be at 8, or 11."
   ]
  },
  {
   "cell_type": "markdown",
   "metadata": {},
   "source": [
    "## Code Walkthrough\n",
    "\n",
    "Now let's walk through the code.\n",
    "\n",
    "```python\n",
    "process_var = 1.\n",
    "sensor_var = 2.\n",
    "```\n",
    " \n",
    "These are the variances for the process model and sensor. The meaning of sensor variance should be clear - it is how much variance there is in each measurement. The process variance is how much error there is in the process model. We are predicting that at each time step the dog moves forward one meter. Dogs rarely do what we expect, and things like hills or the whiff of a squirrel will change his progress. If this was a robot responding to digital commands the performance would be much better, and perhaps the variance would be $\\sigma^2=.05$. These are not 'magic' numbers; the square root of the variance is the distance error in meters. It is easy to get a Kalman filter working by just plugging in numbers, but if the numbers do not reflect reality the performance of the filter will be poor.\n",
    "\n",
    "```python\n",
    "x = gaussian(0., 20.**2)\n",
    "```\n",
    "\n",
    "This is the dog's initial position expressed as a Gaussian. The position is 0 meters, and the variance to 400 m$^2$, which is a standard deviation of 20 meters. You can think of this as saying \"I believe with 99.7% accuracy the position is 0 plus or minus 60 meters\". This is because with Gaussians ~99.7% of values fall within $\\pm3\\sigma$ of the mean.\n",
    "\n",
    "```python\n",
    "process_model = gaussian(velocity, process_var)\n",
    "```\n",
    "\n",
    "This is the process model - the description of how we think the dog moves. How do I know the velocity? Magic? Consider it a prediction, or perhaps we have a secondary velocity sensor. If this is a robot then this would be a control input to the robot. In subsequent chapters we will learn how to handle situations where you don't have a velocity sensor or input, so please accept this simplification for now.\n",
    "\n",
    "Next we initialize the simulation and create 10 measurements:\n",
    "\n",
    "```python\n",
    "dog = DogSimulation(\n",
    "    x0=x.mean, \n",
    "    velocity=process_model.mean, \n",
    "    measurement_var=sensor_var, \n",
    "    process_var=process_model.var)\n",
    "\n",
    "zs = [dog.move_and_sense() for _ in range(10)]\n",
    "```\n",
    "\n",
    "Now we enter our `predict() ... update()` loop.\n",
    "\n",
    "```python\n",
    "for z in zs:\n",
    "    prior = predict(x, process_model)\n",
    "    likelihood = gaussian(z, sensor_var)\n",
    "    x = update(prior, likelihood)\n",
    "```\n",
    "\n",
    "The first time through the loop `prior` is `(1.0, 401.0)`, as can be seen in the printed table. After the prediction, we believe that we are at 1.0, and the variance is now 401, up from 400. The variance got worse, which is what always happens during the prediction step because it involves a loss of information.\n",
    "\n",
    "Then we call the update function using `prior` as the current position.\n",
    "\n",
    "For this I get this as the result: `pos = (1.352, 1.990), z = 1.354`.\n",
    "\n",
    "What is happening? The dog is actually at 1.0 but the measured position is 1.354 due to sensor noise. That is pretty far from the predicted value of 1. The variance of the prior is 401 m$^2$. A large variance implies that confidence is very low, so the filter estimates the position to be very close to the measurement: 1.352.\n",
    "\n",
    "Now look at the variance: 1.99 m$^2$. It has dropped tremendously from 401 m$^2$. Why? Well, the RFID has a reasonably small variance of 2.0 m$^2$, so we trust it far more than the prior. However, the previous belief does contain a bit of useful information, so our variance is now slightly smaller than 2.0.\n",
    "\n",
    "Now the software loops, calling `predict()` and `update()` in turn. By the end the final estimated position is 15.053 vs the actual position of 14.838. The variance has converged to 1.0 m$^2$. \n",
    "\n",
    "Now look at the plot. The noisy measurements are plotted with black circles, and the filter results are drawn with a solid blue line. Both are quite noisy, but notice how much noisier the measurements are. I plotted the prediction (prior) with red triangles. The estimate always lies between the prior and the measurement. This is your first Kalman filter and it seems to work!\n",
    "\n",
    "The filtering is implemented in only a few lines of code. Most of the code is either initialization, storing of data, simulating the dog movement, and printing results. The code that performs the filtering is very succinct:\n",
    "\n",
    "```python\n",
    "prior = predict(x, process_model)\n",
    "likelihood = gaussian(z, sensor_var)\n",
    "x = update(prior, likelihood)\n",
    "```\n",
    "\n",
    "If we didn't use the `predict` and `update` functions the code might be:\n",
    "\n",
    "```python\n",
    "for z in zs:\n",
    "    # predict\n",
    "    dx = velocity*dt\n",
    "    pos = pos + dx\n",
    "    var = var + process_var\n",
    "\n",
    "    # update\n",
    "    pos  = (var*z + sensor_var*pos) / (var + sensor_var)\n",
    "    var = (var * sensor_var) / (var + sensor_var)\n",
    "```    \n",
    "\n",
    "Just 5 lines of very simple math implements the entire filter!\n",
    "\n",
    "In this example I only plotted 10 data points so the output from the print statements would not overwhelm us. Now let's look at the filter's performance with more data. The variance is plotted as a lightly shaded yellow area between dotted lines. I've increased the size of the process and sensor variance so they are easier to see on the chart - for a real Kalman filter of course you will not be randomly changing these values."
   ]
  },
  {
   "cell_type": "code",
   "execution_count": null,
   "metadata": {},
   "outputs": [],
   "source": [
    "process_var = 2.\n",
    "sensor_var = 4.5\n",
    "x = gaussian(0., 400.)\n",
    "process_model = gaussian(1., process_var)\n",
    "N = 25\n",
    "\n",
    "dog = DogSimulation(x.mean, process_model.mean, sensor_var, process_var)\n",
    "zs = [dog.move_and_sense() for _ in range(N)]\n",
    "\n",
    "xs, priors = np.zeros((N, 2)), np.zeros((N, 2))\n",
    "for i, z in enumerate(zs):\n",
    "    prior = predict(x, process_model)    \n",
    "    x = update(prior, gaussian(z, sensor_var))\n",
    "    priors[i] = prior\n",
    "    \n",
    "    xs[i] = x\n",
    "\n",
    "book_plots.plot_measurements(zs)\n",
    "book_plots.plot_filter(xs[:, 0], var=priors[:, 1])\n",
    "book_plots.plot_predictions(priors[:, 0])\n",
    "book_plots.show_legend()\n",
    "kf_internal.print_variance(xs)"
   ]
  },
  {
   "cell_type": "markdown",
   "metadata": {},
   "source": [
    "Here we can see that the variance converges to 2.1623 in 9 steps. This means that we have become very confident in our position estimate. It is equal to $\\sigma=1.47$ meters. Contrast this to the sensor's $\\sigma=2.12$ meters. The first few measurements are unsure due to our uncertainty of the initial position, but the filter quickly converges to an estimate with lower variance than the sensor!\n",
    "\n",
    "This code fully implements a Kalman filter. If you have tried to read the literature you are perhaps surprised, because this looks nothing like the endless pages of math in those books.  So long as we worry about *using* the equations rather than *deriving* them the topic is approachable. Moreover, I hope you'll agree that you have a decent intuitive grasp of what is happening. We represent beliefs with Gaussians, and they get better over time because more measurements means we have more data to work with."
   ]
  },
  {
   "cell_type": "markdown",
   "metadata": {},
   "source": [
    "### Exercise: Modify Variance Values\n",
    "\n",
    "Modify the values of `process_var` and `sensor_var` and note the effect on the filter and on the variance. Which has a larger effect on the variance convergence? For example, which results in a smaller variance:\n",
    "\n",
    "```python\n",
    "process_var = 40\n",
    "sensor_var = 2\n",
    "```\n",
    "    \n",
    "or:\n",
    "\n",
    "```python\n",
    "process_var = 2\n",
    "sensor_var = 40\n",
    "```"
   ]
  },
  {
   "cell_type": "markdown",
   "metadata": {},
   "source": [
    "### KF Animation\n",
    "\n",
    "If you are reading this in a browser you will be able to see an animation of the filter tracking the dog directly below this sentence.\n",
    "<img src='animations/05_dog_track.gif'>\n",
    "\n",
    "The top plot shows the output of the filter in green, and the measurements with a dashed red line. The bottom plot shows the Gaussian at each step. \n",
    "\n",
    "When the track first starts you can see that the measurements varies quite a bit from the initial prediction. At this point the Gaussian probability is small (the curve is low and wide) so the filter does not trust its prediction. As a result, the filter adjusts its estimate a large amount. As the filter innovates you can see that as the Gaussian becomes taller, indicating greater certainty in the estimate, the filter's output becomes very close to a straight line. At `x = 15` and greater you can see that there is a large amount of noise in the measurement, but the filter does not react much to it compared to how much it changed for the first noisy measurement."
   ]
  },
  {
   "cell_type": "markdown",
   "metadata": {},
   "source": [
    "## Kalman Gain\n",
    "\n",
    "We see that the filter works. Now let's go back to the math to understand what is happening. The posterior $x$ is computed as the likelihood times the prior ($\\mathcal L \\bar x$), where both are Gaussians.\n",
    "\n",
    "Therefore the mean of the posterior is given by:\n",
    "\n",
    "$$\n",
    "\\mu=\\frac{\\bar\\sigma^2\\, \\mu_z + \\sigma_z^2 \\, \\bar\\mu} {\\bar\\sigma^2 + \\sigma_z^2}\n",
    "$$\n",
    "\n",
    "I use the subscript $z$ to denote the measurement. We can rewrite this as:\n",
    "\n",
    "$$\\mu = \\left( \\frac{\\bar\\sigma^2}{\\bar\\sigma^2 + \\sigma_z^2}\\right) \\mu_z + \\left(\\frac{\\sigma_z^2}{\\bar\\sigma^2 + \\sigma_z^2}\\right)\\bar\\mu$$\n",
    "\n",
    "In this form it is easy to see that we are scaling the measurement and the prior by weights: \n",
    "\n",
    "$$\\mu = W_1 \\mu_z + W_2 \\bar\\mu$$\n",
    "\n",
    "\n",
    "The weights sum to one because the denominator is a normalization term. We introduce a new term, $K=W_1$, giving us:\n",
    "\n",
    "$$\\begin{aligned}\n",
    "\\mu &= K \\mu_z + (1-K) \\bar\\mu\\\\\n",
    "&= \\bar\\mu + K(\\mu_z - \\bar\\mu)\n",
    "\\end{aligned}$$\n",
    "\n",
    "where\n",
    "\n",
    "$$K = \\frac {\\bar\\sigma^2}{\\bar\\sigma^2 + \\sigma_z^2}$$\n",
    "\n",
    "$K$ is the *Kalman gain*. It's the crux of the Kalman filter. It is a scaling term that chooses a value partway between $\\mu_z$ and $\\bar\\mu$.\n",
    "\n",
    "Let's work a few examples. If the measurement is nine times more accurate than the prior, then $\\bar\\sigma^2 = 9\\sigma_z^2$, and\n",
    "\n",
    "$$\\begin{aligned}\n",
    "\\mu&=\\frac{9 \\sigma_z^2 \\mu_z + \\sigma_z^2\\, \\bar\\mu} {9 \\sigma_z^2 + \\sigma_\\mathtt{z}^2} \\\\\n",
    "&= \\left(\\frac{9}{10}\\right) \\mu_z + \\left(\\frac{1}{10}\\right) \\bar\\mu\n",
    "\\end{aligned}\n",
    "$$\n",
    "\n",
    "Hence $K = \\frac 9 {10}$, and to form the posterior we take nine tenths of the measurement and one tenth of the prior. \n",
    "\n",
    "If the measurement and prior are equally accurate, then $\\bar\\sigma^2 = \\sigma_z^2$ and\n",
    "\n",
    "$$\\begin{gathered}\n",
    "\\mu=\\frac{\\sigma_z^2\\,  (\\bar\\mu + \\mu_z)}{2\\sigma_\\mathtt{z}^2} \\\\\n",
    "= \\left(\\frac{1}{2}\\right)\\bar\\mu + \\left(\\frac{1}{2}\\right)\\mu_z\n",
    "\\end{gathered}$$\n",
    "\n",
    "which is the average of the two means. It makes intuitive sense to take the average of two equally accurate values.\n",
    "\n",
    "We can also express the variance in terms of the Kalman gain:\n",
    "\n",
    "$$\\begin{aligned}\n",
    "\\sigma^2 &= \\frac{\\bar\\sigma^2 \\sigma_z^2 } {\\bar\\sigma^2 + \\sigma_z^2} \\\\\n",
    "&= K\\sigma_z^2 \\\\\n",
    "&= (1-K)\\bar\\sigma^2 \n",
    "\\end{aligned}$$\n",
    "\n",
    "We can understand this by looking at this chart:"
   ]
  },
  {
   "cell_type": "code",
   "execution_count": null,
   "metadata": {},
   "outputs": [],
   "source": [
    "import kf_book.book_plots as book_plots\n",
    "book_plots.show_residual_chart()"
   ]
  },
  {
   "cell_type": "markdown",
   "metadata": {},
   "source": [
    "The Kalman gain $K$ is a scale factor that chooses a value along the residual. This leads to an alternative but equivalent implementation for `update()` and `predict()`:"
   ]
  },
  {
   "cell_type": "code",
   "execution_count": null,
   "metadata": {},
   "outputs": [],
   "source": [
    "def update(prior, measurement):\n",
    "    x, P = prior        # mean and variance of prior\n",
    "    z, R = measurement  # mean and variance of measurement\n",
    "    \n",
    "    y = z - x        # residual\n",
    "    K = P / (P + R)  # Kalman gain\n",
    "\n",
    "    x = x + K*y      # posterior\n",
    "    P = (1 - K) * P  # posterior variance\n",
    "    return gaussian(x, P)\n",
    "\n",
    "def predict(posterior, movement):\n",
    "    x, P = posterior # mean and variance of posterior\n",
    "    dx, Q = movement # mean and variance of movement\n",
    "    x = x + dx\n",
    "    P = P + Q\n",
    "    return gaussian(x, P)"
   ]
  },
  {
   "cell_type": "markdown",
   "metadata": {},
   "source": [
    "Why have I written it in this form, and why have I chosen these terrible variable names? A few related reasons. A majority of books and papers present the Kalman filter in this form. My derivation of the filter from Bayesian principles is not unknown, but it is not used nearly as often. Alternative derivations naturally lead to this form of the equations. Also, the equations for the multivariate Kalman filter look almost exactly like these equations. So, you need to learn and understand them. \n",
    "\n",
    "Where do the names `z`, `P`, `Q`, and `R` come from? You will see them used in the rest of this book. In the literature $R$ is nearly universally used for the measurement noise, $Q$ for the process noise and $P$ for the variance of the state. Using $z$ for the measurement is common, albeit not universal. Almost every book and paper you read will use these variable names. Get used to them.\n",
    "\n",
    "This is also a powerful way to think about filtering. This is the way we reasoned about the g-h filter. It emphasizes taking the residual $y = \\mu_z - \\bar\\mu$, finding the Kalman gain as a ratio of our uncertainty in the prior and measurement $K = P/(P+R)$, and computing the posterior by adding $Ky$ to the prior. \n",
    "\n",
    "The Bayesian aspect is obscured in this form, as is the fact that we are multiplying the likelihood by the prior. Both viewpoints are equivalent because the math is identical. I chose the Bayesian approach because I think it give a much more intuitive yet deep understanding of the probabilistic reasoning. This alternative form using $K$ gives a deep understanding of what is known as the *orthogonal projection* approach. Dr. Kalman used that derivation, not Bayesian reasoning, when he invented this filter. You will understand more about this in the next few chapters."
   ]
  },
  {
   "cell_type": "markdown",
   "metadata": {},
   "source": [
    "## Full Description of the Algorithm\n",
    "\n",
    "Recall the diagram we used for the g-h filter:\n",
    "<img src=\"./figs/residual_chart.png\">"
   ]
  },
  {
   "cell_type": "markdown",
   "metadata": {},
   "source": [
    "We've been doing the same thing in this chapter. The Kalman filter makes a prediction, takes a measurement, and then forms a new estimate somewhere between the two.\n",
    "\n",
    "**This is extremely important to understand**: Every filter in this book implements the same algorithm, just with different mathematical details. The math can become challenging in later chapters, but the idea is easy to understand.\n",
    "\n",
    "It is important to see past the details of the equations of a specific filter and understand *what* the equations are calculating and *why*. There are a tremendous number of filters. They all use different math to implement the same algorithm. The choice of math affects the quality of results and what problems can be represented, but not the underlying ideas.\n",
    "\n",
    "Here is the generic algorithm:\n",
    "\n",
    "**Initialization**\n",
    "\n",
    "    1. Initialize the state of the filter\n",
    "    2. Initialize our belief in the state\n",
    "    \n",
    "**Predict**\n",
    "\n",
    "    1. Use system behavior to predict state at the next time step\n",
    "    2. Adjust belief to account for the uncertainty in prediction\n",
    "    \n",
    "**Update**\n",
    "\n",
    "    1. Get a measurement and associated belief about its accuracy\n",
    "    2. Compute residual between estimated state and measurement\n",
    "    3. Compute scaling factor based on whether the measurement\n",
    "    or prediction is more accurate\n",
    "    4. set state between the prediction and measurement based \n",
    "    on scaling factor\n",
    "    5. update belief in the state based on how certain we are \n",
    "    in the measurement\n",
    "\n",
    "You will be hard pressed to find a Bayesian filter algorithm that does not fit into this form. Some filters will not include some aspects, such as error in the prediction, and others will have very complicated methods of computation, but this is what they all do. \n",
    "\n",
    "The equations for the univariate Kalman filter are:\n",
    "\n",
    "<u>Predict</u>\n",
    "\n",
    "$\\begin{array}{|l|l|l|}\n",
    "\\hline\n",
    "\\text{Equation} & \\text{Implementation} & \\text{Kalman Form}\\\\\n",
    "\\hline\n",
    " \\bar x = x + f_x & \\bar\\mu = \\mu + \\mu_{f_x} & \\bar x = x + dx\\\\\n",
    "& \\bar\\sigma^2 = \\sigma^2 + \\sigma_{f_x}^2 & \\bar P = P + Q\\\\\n",
    "\\hline\n",
    "\\end{array}$\n",
    "\n",
    "\n",
    "<u>Update</u>\n",
    "\n",
    "$\\begin{array}{|l|l|l|}\n",
    "\\hline\n",
    "\\text{Equation} & \\text{Implementation}& \\text{Kalman Form}\\\\\n",
    "\\hline\n",
    " x = \\| \\mathcal L\\bar x\\| & y = z - \\bar\\mu & y = z - \\bar x\\\\\n",
    " & K = \\frac {\\bar\\sigma^2} {\\bar\\sigma^2 + \\sigma_z^2} & K = \\frac {\\bar P}{\\bar P+R}\\\\\n",
    " & \\mu = \\bar \\mu + Ky & x = \\bar x + Ky\\\\\n",
    " & \\sigma^2 = \\frac {\\bar\\sigma^2 \\sigma_z^2} {\\bar\\sigma^2 + \\sigma_z^2} & P = (1-K)\\bar P\\\\\n",
    "\\hline\n",
    "\\end{array}$"
   ]
  },
  {
   "cell_type": "markdown",
   "metadata": {},
   "source": [
    "## Comparison with g-h and discrete Bayes Filters\n",
    "\n",
    "Now is a good time to understand the differences between these three filters in terms of how we model errors. For the g-h filter we modeled our measurements as shown in this graph:"
   ]
  },
  {
   "cell_type": "code",
   "execution_count": null,
   "metadata": {},
   "outputs": [],
   "source": [
    "book_plots.plot_errorbars([(160, 3, 'A'), (170, 9, 'B')], xlims=(150, 180))"
   ]
  },
  {
   "cell_type": "markdown",
   "metadata": {},
   "source": [
    "Sensor A returned a measurement of 160, and sensor B returned 170. The bars are [*error bars*](https://en.wikipedia.org/wiki/Error_bar) - they illustrate the possible range of error for the measurement. Hence, the actual value that A is measuring can be between 157 to 163, and B is measuring a value between 161 to 179.\n",
    "\n",
    "I did not define it at the time, but this is a [*uniform distribution*](https://en.wikipedia.org/wiki/Uniform_distribution_(continuous&#41;). A uniform distribution assigns equal probability to any event in the range. According to this model it is equally likely for sensor A to read 157, 160, or 163. Any value outside these ranges have 0 probability. \n",
    "\n",
    "We can model this situation with Gaussians. I'll use $\\mathcal{N}(160, 3^2)$ for sensor A, and $\\mathcal{N}(170, 9^2)$ for sensor B. I've plotted these below with the uniform distribution error bars for comparison."
   ]
  },
  {
   "cell_type": "code",
   "execution_count": null,
   "metadata": {},
   "outputs": [],
   "source": [
    "xs = np.arange(145, 190, 0.1)\n",
    "ys = [stats.gaussian(x, 160, 3**2) for x in xs]\n",
    "plt.plot(xs, ys, label='A', color='g')\n",
    "\n",
    "ys = [stats.gaussian(x, 170, 9**2) for x in xs]\n",
    "plt.plot(xs, ys, label='B', color='b')\n",
    "plt.legend();\n",
    "plt.errorbar(160, [0.04], xerr=[3], fmt='o', color='g', capthick=2, capsize=10)    \n",
    "plt.errorbar(170, [0.015], xerr=[9], fmt='o', color='b', capthick=2, capsize=10);"
   ]
  },
  {
   "cell_type": "markdown",
   "metadata": {},
   "source": [
    "Using a uniform or Gaussian distribution is a modeling choice. Neither exactly describes reality. In most cases the Gaussian distribution is more realistic. Most sensors are more likely to return readings near the value being measured, and unlikely to return a reading far from that value. The Gaussian models this tendency. In contrast the uniform distribution assumes that any measurement within a range is equally likely.\n",
    "\n",
    "Now let's see the *discrete distribution* used in the discrete Bayes filter. This model divides the range of possible values into discrete ranges and assigns a probability to each bucket. This assignment can be entirely arbitrary so long as the probabilities sum to one.\n",
    "\n",
    "Let's plot the data for one sensor using a uniform distribution, a Gaussian distribution, and a discrete distribution."
   ]
  },
  {
   "cell_type": "code",
   "execution_count": null,
   "metadata": {},
   "outputs": [],
   "source": [
    "from random import random\n",
    "xs = np.arange(145, 190, 0.1)\n",
    "ys = [stats.gaussian(x, 160, 3**2) for x in xs]\n",
    "belief = np.array([random() for _ in range(40)])\n",
    "belief = belief / sum(belief)\n",
    "\n",
    "x = np.linspace(155, 165, len(belief))\n",
    "plt.gca().bar(x, belief, width=0.2)\n",
    "plt.plot(xs, ys, label='A', color='g')\n",
    "plt.errorbar(160, [0.04], xerr=[3], fmt='o', color='k', capthick=2, capsize=10)    \n",
    "plt.xlim(150, 170);"
   ]
  },
  {
   "cell_type": "markdown",
   "metadata": {},
   "source": [
    "I used random numbers to form the discrete distribution to illustrate that it can model any arbitrary probability distribution. This provides it with enormous power. With enough discrete buckets we can model the error characteristics of any sensor no matter how complicated. But with this power comes mathematical intractability. Multiplying or adding Gaussians takes two lines of math, and the result is another Gaussian. This regularity allows us to perform powerful analysis on the performance and behavior of our filters. Multiplying or adding a discrete distribution requires looping over the data, and we have no easy way to characterize the result.  Analyzing the performance characteristics of a filter based on a discrete distribution is extremely difficult to impossible.\n",
    "\n",
    "There is no 'correct' choice here. Later in the book we will introduce the *particle filter* which uses a discrete distribution. It is an extremely powerful technique because it can handle arbitrarily complex situations. This comes at the cost of slow performance, and resistance to analytical analysis. \n",
    "\n",
    "For now we will ignore these matters and return to using Gaussians for the next several chapters. As we progress you will learn the strengths and limitations of using Gaussians in our mathematical models."
   ]
  },
  {
   "cell_type": "markdown",
   "metadata": {},
   "source": [
    "## Introduction to Designing a Filter\n",
    "\n",
    "So far we have developed filters for a position sensor. We are used to this problem by now, and may feel ill-equipped to implement a Kalman filter for a different problem. To be honest, there is still quite a bit of information missing from this presentation. Following chapters will fill in the gaps. Still, let's get a feel for it by designing and implementing a Kalman filter for a thermometer. The sensor for the thermometer outputs a voltage that corresponds to the temperature that is being measured. We have read the manufacturer's specifications for the sensor, and it tells us that the sensor exhibits white noise with a standard deviation of 0.13 volts.\n",
    "\n",
    "We can simulate the temperature sensor measurement with this function:"
   ]
  },
  {
   "cell_type": "code",
   "execution_count": null,
   "metadata": {},
   "outputs": [],
   "source": [
    "def volt(voltage, std):\n",
    "    return voltage + (randn() * std)"
   ]
  },
  {
   "cell_type": "markdown",
   "metadata": {},
   "source": [
    "Now we need to write the Kalman filter processing loop. As with our previous problem, we need to perform a cycle of predicting and updating. The sensing step probably seems clear - call `volt()` to get the measurement, pass the result into `update()` method, but what about the predict step? We do not have a sensor to detect 'movement' in the voltage, and for any small duration we expect the voltage to remain constant. How shall we handle this?\n",
    "\n",
    "As always, we will trust in the math. We have no known movement, so we will set that to zero. However, that means that we are predicting that the temperature will never change. If that is true, then over time we should become extremely confident in our results. Once the filter has enough measurements it will become very confident that it can predict the subsequent temperatures, and this will lead it to ignoring measurements that result due to an actual temperature change. This is called a *smug* filter, and is something you want to avoid. So we will add a bit of error to our prediction step to tell the filter not to discount changes in voltage over time. In the code below I set `process_var = .05**2`. This is the expected variance in the change of voltage over each time step. I chose this value merely to be able to show how the variance changes through the update and predict steps. For a real sensor you would set this value for the actual amount of change you expect. For example, this would be an extremely small number if it is a thermometer for ambient air temperature in a house, and a high number if this is a thermocouple in a chemical reaction chamber. We will say more about selecting the actual value in the later chapters.\n",
    "\n",
    "Let's see what happens. "
   ]
  },
  {
   "cell_type": "code",
   "execution_count": null,
   "metadata": {},
   "outputs": [],
   "source": [
    "temp_change = 0\n",
    "voltage_std = .13\n",
    "process_var = .05**2\n",
    "actual_voltage = 16.3\n",
    "\n",
    "x = gaussian(25., 1000.) # initial state\n",
    "process_model = gaussian(0., process_var)\n",
    "\n",
    "N = 50\n",
    "zs = [volt(actual_voltage, voltage_std) for i in range(N)]\n",
    "ps = []\n",
    "estimates = []\n",
    "\n",
    "for z in zs:\n",
    "    prior = predict(x, process_model)\n",
    "    x = update(prior, gaussian(z, voltage_std**2))\n",
    "\n",
    "    # save for latter plotting\n",
    "    estimates.append(x.mean)\n",
    "    ps.append(x.var)\n",
    "\n",
    "# plot the filter output and the variance\n",
    "book_plots.plot_measurements(zs)\n",
    "book_plots.plot_filter(estimates, var=np.array(ps))\n",
    "book_plots.show_legend()\n",
    "plt.ylim(16, 17)\n",
    "book_plots.set_labels(x='step', y='volts')\n",
    "plt.show()\n",
    "    \n",
    "plt.plot(ps)\n",
    "plt.title('Variance')\n",
    "print(f'Variance converges to {ps[-1]:.3f}')"
   ]
  },
  {
   "cell_type": "markdown",
   "metadata": {},
   "source": [
    "The first plot shows the individual sensor measurements vs the filter output. Despite a lot of noise in the sensor we quickly discover the approximate voltage of the sensor. In the run I just completed at the time of authorship, the last voltage output from the filter is $16.213$, which is quite close to the $16.4$ used by the `volt()` function. On other runs I have gotten larger and smaller results.\n",
    "\n",
    "Spec sheets are what they sound like - specifications. Any individual sensor will exhibit different performance based on normal manufacturing variations. Values are often maximums - the spec is a guarantee that the performance will be at least that good. If you buy an expensive piece of equipment it often comes with a sheet of paper displaying the test results of your specific item; this is usually very trustworthy. On the other hand, if this is a cheap sensor it is likely it received little to no testing prior to being sold. Manufacturers typically test a small subset of their output to verify that a sample falls within the desired performance range. If you have a critical application you will need to read the specification sheet carefully to figure out exactly what they mean by their ranges. Do they guarantee their number is a maximum, or is it, say, the $3\\sigma$ error rate? Is every item tested? Is the variance normal, or some other distribution? Finally, manufacturing is not perfect. Your part might be defective and not match the performance on the sheet.\n",
    "\n",
    "For example, I am looking at a data sheet for an airflow sensor. There is a field *Repeatability*, with the value $\\pm 0.50\\%$. Is this a Gaussian? Is there a bias? For example, perhaps the repeatability is nearly $0.0\\%$ at low temperatures, and always nearly  $+0.50\\%$ at high temperatures. Data sheets for electrical components often contain a section of \"Typical Performance Characteristics\". These are used to capture information that cannot be easily conveyed in a table. For example, I am looking at a chart showing output voltage vs current for a LM555 timer. There are three curves showing the performance at different temperatures. The response is ideally linear, but all three lines are curved. This clarifies that errors in voltage outputs are probably not Gaussian - in this chip's case higher temperatures lead to lower voltage output, and the voltage output is quite nonlinear if the input current is very high. \n",
    "\n",
    "As you might guess, modeling the performance of your sensors is one of the harder parts of creating a Kalman filter that performs well. "
   ]
  },
  {
   "cell_type": "markdown",
   "metadata": {},
   "source": [
    "### Animation\n",
    "\n",
    "For those reading this in a browser here is an animation showing the filter working. If you are not using a browser you can see this plot at https://github.com/rlabbe/Kalman-and-Bayesian-Filters-in-Python/blob/master/animations/05_volt_animate.gif."
   ]
  },
  {
   "cell_type": "markdown",
   "metadata": {},
   "source": [
    "<img src='animations/05_volt_animate.gif'>"
   ]
  },
  {
   "cell_type": "markdown",
   "metadata": {},
   "source": [
    "The top plot in the animation draws a green line for the predicted next voltage, then a red '+' for the actual measurement, draws a light red line to show the residual, and then draws a blue line to the filter's output. You can see that when the filter starts the corrections made are quite large, but after only a few updates the filter only adjusts its output by a small amount even when the measurement is far from it. \n",
    "\n",
    "The lower plot shows the Gaussian belief as the filter innovates. When the filter starts the Gaussian curve is centered over 25, our initial guess for the voltage, and is very wide and short due to our initial uncertainty. But as the filter innovates, the Gaussian quickly moves to about 16.0 and becomes taller, reflecting the growing confidence that the filter has in it's estimate for the voltage. You will also note that the Gaussian's height bounces up and down a little bit. If you watch closely you will see that the Gaussian becomes a bit shorter and more spread out during the prediction step, and becomes taller and narrower as the filter incorporates another measurement.\n",
    "\n",
    "Think of this animation in terms of the g-h filter. At each step the g-h filter makes a prediction, takes a measurement, computes the residual (the difference between the prediction and the measurement), and then selects a point on the residual line based on the scaling factor $g$. The Kalman filter is doing exactly the same thing, except that the scaling factor $g$ varies with time. As the filter becomes more confident in its state the scaling factor favors the filter's prediction over the measurement. "
   ]
  },
  {
   "cell_type": "markdown",
   "metadata": {},
   "source": [
    "## Example: Extreme Amounts of Noise\n",
    "\n",
    "With the dog filter I didn't put a lot of noise in the signal, and I 'guessed' that the dog was at position 0. How does the filter perform in real world conditions? I will start by injecting more noise in the RFID sensor while leaving the process variance at 2 m$^2$.  I will inject an extreme amount of noise - noise that apparently swamps the actual measurement. What does your intuition say about the filter's performance if the sensor has a standard deviation of 300 meters? In other words, an actual position of 1.0 m might be reported as 287.9 m, or -589.6 m, or any other number in roughly that range. Think about it before you scroll down."
   ]
  },
  {
   "cell_type": "code",
   "execution_count": null,
   "metadata": {},
   "outputs": [],
   "source": [
    "sensor_var = 300.**2\n",
    "process_var = 2.\n",
    "process_model = gaussian(1., process_var)\n",
    "pos = gaussian(0., 500.)\n",
    "N = 1000\n",
    "dog = DogSimulation(pos.mean, 1., sensor_var, process_var)\n",
    "zs = [dog.move_and_sense() for _ in range(N)]\n",
    "ps = []\n",
    "\n",
    "for i in range(N):\n",
    "    prior = predict(pos, process_model)    \n",
    "    pos = update(prior, gaussian(zs[i], sensor_var))\n",
    "    ps.append(pos.mean)\n",
    "\n",
    "book_plots.plot_measurements(zs, lw=1)\n",
    "book_plots.plot_filter(ps)\n",
    "plt.legend(loc=4);"
   ]
  },
  {
   "cell_type": "markdown",
   "metadata": {},
   "source": [
    "In this example the noise is extreme yet the filter still outputs a nearly straight line! This is an astonishing result! What do you think might be the cause of this performance? \n",
    "\n",
    "We get a nearly straight line because our process error is small. A small process error tells the filter that the prediction is very trustworthy, and the prediction is a straight line, so the filter outputs a nearly straight line. "
   ]
  },
  {
   "cell_type": "markdown",
   "metadata": {},
   "source": [
    "## Example: Incorrect Process Variance\n",
    "\n",
    "That last filter looks fantastic! Why wouldn't we set the process variance very low, as it guarantees the result will be straight and smooth?\n",
    "\n",
    "The process variance tells the filter how much the system is changing over time. If you lie to the filter by setting this number artificially low the filter will not be able to react to changes that are happening. Let's have the dog increase his velocity by a small amount at each time step and see how the filter performs with a process variance of 0.001 m$^2$."
   ]
  },
  {
   "cell_type": "code",
   "execution_count": null,
   "metadata": {},
   "outputs": [],
   "source": [
    "sensor_var = 20.\n",
    "process_var = .001\n",
    "process_model = gaussian(1., process_var)\n",
    "pos = gaussian(0., 500.)\n",
    "N = 100\n",
    "dog = DogSimulation(pos.mean, 1, sensor_var, process_var*10000)\n",
    "zs, ps = [], []\n",
    "for _ in range(N):\n",
    "    dog.velocity += 0.04\n",
    "    zs.append(dog.move_and_sense())\n",
    "\n",
    "for z in zs:\n",
    "    prior = predict(pos, process_model)    \n",
    "    pos = update(prior, gaussian(z, sensor_var))\n",
    "    ps.append(pos.mean)\n",
    "\n",
    "book_plots.plot_measurements(zs, lw=1)\n",
    "book_plots.plot_filter(ps)\n",
    "plt.legend(loc=4);"
   ]
  },
  {
   "cell_type": "markdown",
   "metadata": {},
   "source": [
    "It is easy to see that the filter is not correctly responding to the measurements. The measurements  clearly indicate that the dog is changing speed but the filter has been told that it's predictions are nearly perfect so it almost entirely ignores them. I encourage you to adjust the amount of movement in the dog vs process variance. We will also be studying this topic much more in the later chapters. The key point is to recognize that math requires that the variances correctly describe your system. The filter does not 'notice' that it is diverging from the measurements and correct itself. It computes the Kalman gain from the variance of the prior and the measurement, and forms the estimate depending on which is more accurate."
   ]
  },
  {
   "cell_type": "markdown",
   "metadata": {},
   "source": [
    "## Example: Bad Initial Estimate\n",
    "\n",
    "\n",
    "Now let's look at the results when we make a bad initial estimate of position. To avoid obscuring the results I'll reduce the sensor variance to 30, but set the initial position to 1000 meters. Can the filter recover from a 1000 meter error?"
   ]
  },
  {
   "cell_type": "code",
   "execution_count": null,
   "metadata": {},
   "outputs": [],
   "source": [
    "sensor_var = 5.**2\n",
    "process_var = 2.\n",
    "pos = gaussian(1000., 500.)\n",
    "process_model = gaussian(1., process_var)\n",
    "N = 100\n",
    "dog = DogSimulation(0, 1, sensor_var, process_var)\n",
    "zs = [dog.move_and_sense() for _ in range(N)]\n",
    "ps = []\n",
    "\n",
    "for z in zs:\n",
    "    prior = predict(pos, process_model)    \n",
    "    pos = update(prior, gaussian(z, sensor_var))\n",
    "    ps.append(pos.mean)\n",
    "\n",
    "book_plots.plot_measurements(zs, lw=1)\n",
    "book_plots.plot_filter(ps)\n",
    "plt.legend(loc=4);"
   ]
  },
  {
   "cell_type": "markdown",
   "metadata": {},
   "source": [
    "Again the answer is yes! Because we are relatively sure about our belief in the sensor ($\\sigma^2=5^2$) after only the first step we have changed our position estimate from 1000 m to roughly 50 m. After another 5-10 measurements we have converged to the correct value. This is how we get around the chicken and egg problem of initial guesses. In practice we would likely assign the first measurement from the sensor as the initial value, but you can see it doesn't matter much if we wildly guess at the initial conditions - the Kalman filter still converges so long as the filter variances are chosen to match the actual process and measurement variances."
   ]
  },
  {
   "cell_type": "markdown",
   "metadata": {},
   "source": [
    "## Example: Large Noise and Bad Initial Estimate\n",
    "\n",
    "What about the worst of both worlds, large noise and a bad initial estimate?"
   ]
  },
  {
   "cell_type": "code",
   "execution_count": null,
   "metadata": {},
   "outputs": [],
   "source": [
    "sensor_var = 30000.\n",
    "process_var = 2.\n",
    "pos = gaussian(1000., 500.)\n",
    "process_model = gaussian(1., process_var)\n",
    "\n",
    "N = 1000\n",
    "dog = DogSimulation(0, 1, sensor_var, process_var)\n",
    "zs = [dog.move_and_sense() for _ in range(N)]\n",
    "ps = []\n",
    "\n",
    "for z in zs:\n",
    "    prior = predict(pos, process_model) \n",
    "    pos = update(prior, gaussian(z, sensor_var))\n",
    "    ps.append(pos.mean)\n",
    "\n",
    "book_plots.plot_measurements(zs, lw=1)\n",
    "book_plots.plot_filter(ps)\n",
    "plt.legend(loc=4);"
   ]
  },
  {
   "cell_type": "markdown",
   "metadata": {},
   "source": [
    "This time the filter struggles. Notice that the previous example only computed 100 updates, whereas this example uses 1000. By my eye it takes the filter 400 or so iterations to become reasonable accurate, but maybe over 600 before the results are good. Kalman filters are good, but we cannot expect miracles. If we have extremely noisy data and extremely bad initial conditions, this is as good as it gets.\n",
    "\n",
    "Finally, let's implement the suggestion of using the first measurement as the initial position."
   ]
  },
  {
   "cell_type": "code",
   "execution_count": null,
   "metadata": {},
   "outputs": [],
   "source": [
    "sensor_var = 30000.\n",
    "process_var = 2.\n",
    "process_model = gaussian(1., process_var)\n",
    "N = 1000\n",
    "dog = DogSimulation(0, 1, sensor_var, process_var)\n",
    "zs = [dog.move_and_sense() for _ in range(N)]\n",
    "\n",
    "pos = gaussian(zs[0], 500.)\n",
    "ps = []\n",
    "for z in zs:\n",
    "    prior = predict(pos, process_model) \n",
    "    pos = update(prior, gaussian(z, sensor_var))\n",
    "    ps.append(pos.mean)\n",
    "\n",
    "book_plots.plot_measurements(zs, lw=1)\n",
    "book_plots.plot_filter(ps)\n",
    "plt.legend(loc='best');"
   ]
  },
  {
   "cell_type": "markdown",
   "metadata": {},
   "source": [
    "This simple change significantly improves the results. On some runs it takes 200 iterations or so to settle to a good solution, but other runs it converges very rapidly. This all depends on the amount of noise in the first measurement. A large amount of noise causes the initial estimate to be far from the dog's position.\n",
    "\n",
    "200 iterations may seem like a lot, but the amount of noise we are injecting is truly huge. In the real world we use sensors like thermometers,  laser range finders, GPS satellites, computer vision, and so on. None have the enormous errors in these examples. A reasonable variance for a cheap thermometer might be 0.2 C$^{\\circ 2}$, and our code is using 30,000 C$^{\\circ 2}$."
   ]
  },
  {
   "cell_type": "markdown",
   "metadata": {},
   "source": [
    "## Exercise: Interactive Plots\n",
    "\n",
    "Implement the Kalman filter using Jupyter Notebook's animation features to allow you to modify the various constants in real time using sliders. Refer to the section **Interactive Gaussians** in the **Gaussians** chapter to see how to do this. You will use the `interact()` function to call a calculation and plotting function. Each parameter passed into `interact()` automatically gets a slider created for it. I have written the boilerplate for this; you fill in the required code."
   ]
  },
  {
   "cell_type": "code",
   "execution_count": null,
   "metadata": {},
   "outputs": [],
   "source": [
    "from ipywidgets import interact\n",
    "from kf_book.book_plots import FloatSlider\n",
    "\n",
    "def plot_kalman_filter(start_pos, \n",
    "                       sensor_noise, \n",
    "                       velocity, \n",
    "                       process_noise):\n",
    "    plt.figure();\n",
    "    # your code goes here\n",
    "\n",
    "interact(plot_kalman_filter,\n",
    "         start_pos=(-10, 10), \n",
    "         sensor_noise=FloatSlider(value=5, min=0, max=100), \n",
    "         velocity=FloatSlider(value=1, min=-2., max=2.), \n",
    "         process_noise=FloatSlider(value=5, min=0, max=100.));"
   ]
  },
  {
   "cell_type": "markdown",
   "metadata": {},
   "source": [
    "### Solution\n",
    "\n",
    "One possible solution follows. We have sliders for the start position, the amount of noise in the sensor, the amount we move in each time step, and how much movement error there is. Process noise is perhaps the least clear - it models how much the dog wanders off course at each time step, so we add that into the dog's position at each step. I set the random number generator seed so that each redraw uses the same random numbers, allowing us to compare the graphs as we move the sliders."
   ]
  },
  {
   "cell_type": "code",
   "execution_count": null,
   "metadata": {},
   "outputs": [],
   "source": [
    "from numpy.random import seed \n",
    "from ipywidgets import interact\n",
    "\n",
    "def plot_kalman_filter(start_pos, \n",
    "                       sensor_noise, \n",
    "                       velocity,\n",
    "                       process_noise):\n",
    "    N = 20\n",
    "    zs, ps = [], []   \n",
    "    seed(303)\n",
    "    dog = DogSimulation(start_pos, velocity, sensor_noise, process_noise)\n",
    "    zs = [dog.move_and_sense() for _ in range(N)]\n",
    "    pos = gaussian(0., 1000.) # mean and variance\n",
    "    process_model = gaussian(velocity, process_noise)\n",
    "    \n",
    "    for z in zs:    \n",
    "        pos = predict(pos, process_model)\n",
    "        pos = update(pos, gaussian(z, sensor_noise))\n",
    "        ps.append(pos.mean)\n",
    "\n",
    "    plt.figure()\n",
    "    plt.plot(zs, c='k', marker='o', linestyle='', label='measurement')\n",
    "    plt.plot(ps, c='#004080', alpha=0.7, label='filter')\n",
    "    plt.legend(loc=4);\n",
    "    plt.show()\n",
    "\n",
    "interact(plot_kalman_filter,\n",
    "         start_pos=(-10, 10), \n",
    "         sensor_noise=FloatSlider(value=5, min=0., max=100), \n",
    "         velocity=FloatSlider(value=1, min=-2., max=2.), \n",
    "         process_noise=FloatSlider(value=.1, min=0, max=40));"
   ]
  },
  {
   "cell_type": "markdown",
   "metadata": {},
   "source": [
    "## Exercise - Nonlinear Systems\n",
    "\n",
    "Our equations for the Kalman filter are linear:\n",
    "\n",
    "$$\\begin{aligned}\n",
    "\\mathcal{N}(\\bar\\mu,\\, \\bar\\sigma^2) &= \\mathcal{N}(\\mu,\\, \\sigma^2) + \\mathcal{N}(\\mu_\\mathtt{move},\\, \\sigma^2_\\mathtt{move})\\\\\n",
    "\\mathcal{N}(\\mu,\\, \\sigma^2) &= \\mathcal{N}(\\bar\\mu,\\, \\bar\\sigma^2)  \\times \\mathcal{N}(\\mu_\\mathtt{z},\\, \\sigma^2_\\mathtt{z})\n",
    "\\end{aligned}$$\n",
    "\n",
    "Do you suppose that this filter works well or poorly with nonlinear systems?\n",
    "\n",
    "Implement a Kalman filter that uses the following equation to generate the measurement value\n",
    "\n",
    "```python\n",
    "for i in range(100):\n",
    "    z = math.sin(i/3.) * 2\n",
    "```\n",
    "    \n",
    "Adjust the variance and initial positions to see the effect. What is, for example, the result of a very bad initial guess?"
   ]
  },
  {
   "cell_type": "code",
   "execution_count": null,
   "metadata": {},
   "outputs": [],
   "source": [
    "#enter your code here."
   ]
  },
  {
   "cell_type": "markdown",
   "metadata": {},
   "source": [
    "### Solution"
   ]
  },
  {
   "cell_type": "code",
   "execution_count": null,
   "metadata": {},
   "outputs": [],
   "source": [
    "import math\n",
    "\n",
    "sensor_var = 30.\n",
    "process_var = 2.\n",
    "pos = gaussian(100., 500.)\n",
    "process_model = gaussian(1., process_var)\n",
    "\n",
    "zs, ps = [], []\n",
    "\n",
    "for i in range(100):\n",
    "    pos = predict(pos, process_model)\n",
    "\n",
    "    z = math.sin(i/3.)*2 + randn()*1.2\n",
    "    zs.append(z)\n",
    "    \n",
    "    pos = update(pos, gaussian(z, sensor_var))\n",
    "    ps.append(pos.mean)\n",
    "\n",
    "plt.plot(zs, c='r', linestyle='dashed', label='measurement')\n",
    "plt.plot(ps, c='#004080', label='filter')\n",
    "plt.legend(loc='best');"
   ]
  },
  {
   "cell_type": "markdown",
   "metadata": {},
   "source": [
    "### Discussion\n",
    "\n",
    "This is terrible! The output is not at all like a sin wave, except in the grossest way. With linear systems we could add extreme amounts of noise to our signal and still extract a very accurate result, but here even modest noise creates a very bad result.\n",
    "\n",
    "If we recall the **g-h Filter** chapter we can understand what is happening here. The structure of the g-h filter requires that the filter output chooses a value part way between the prediction and measurement. A varying signal like this one is always accelerating, whereas our process model assumes constant velocity, so the filter is mathematically guaranteed to always lag the input signal. \n",
    "\n",
    "Very shortly after practitioners began implementing Kalman filters they recognized the poor performance of them for nonlinear systems and began devising ways of dealing with it. Later chapters are devoted to this problem."
   ]
  },
  {
   "cell_type": "markdown",
   "metadata": {},
   "source": [
    "## Fixed Gain Filters\n",
    "\n",
    "Embedded computers usually have extremely limited processors. Many do not have floating point circuitry. These simple equations can impose a heavy burden on the chip. This is less true as technology advances, but do not underestimate the value of spending one dollar less on a processor when you will be buying millions of them.\n",
    "\n",
    "In the example above the variance of the filter converged to a fixed value. This will always happen if the variance of the measurement and process is a constant. You can take advantage of this fact by running simulations to determine what the variance converges to. Then you can hard code this value into your filter. So long as you initialize the filter to a good starting guess (I recommend using the first measurement as your initial value) the filter will perform very well. For example, the dog tracking filter can be reduced to this:\n",
    "\n",
    "```python\n",
    "def update(x, z):\n",
    "    K = .13232  # experimentally derived Kalman gain\n",
    "    y = z - x   # residual\n",
    "    x = x + K*y # posterior\n",
    "    return x\n",
    "    \n",
    "def predict(x):\n",
    "    return x + vel*dt\n",
    "```\n",
    "\n",
    "I used the Kalman gain form of the update function to emphasize that we do not need to consider the variances at all. If the variances converge to a single value so does the Kalman gain. "
   ]
  },
  {
   "cell_type": "markdown",
   "metadata": {},
   "source": [
    "## FilterPy's Implementation\n",
    "\n",
    "FilterPy implements `predict()` and `update()`.  They work not only for the univariate case developed in this chapter, but the more general multivariate case that we learn in subsequent chapters. Because of this their interface is slightly different. They do not take Gaussians as tuples, but as two separately named variables.\n",
    "\n",
    "`predict()` takes several arguments, but we will only need to use these four:\n",
    "\n",
    "```python\n",
    "predict(x, P, u, Q)\n",
    "```\n",
    "\n",
    "`x` is the state of the system. `P` is the variance of the system. `u` is the movement due to the process, and `Q` is the noise in the process. You will need to used named arguments when you call `predict()` because most of the arguments are optional. The third argument to `predict()` is **not** `u`.\n",
    "\n",
    "These may strike you as terrible variable names. They are! As I already mentioned they come from a long history of control theory, and every paper or book you read will use these names. So, we just have to get used to it. Refusing to memorize them means you will never be able to read the literature.\n",
    "\n",
    "Let's try it for the state $\\mathcal N(10, 3)$ and the movement $\\mathcal N(1, 4)$. We'd expect a final position of 11 (10+1) with a variance of 7 (3+4)."
   ]
  },
  {
   "cell_type": "code",
   "execution_count": null,
   "metadata": {},
   "outputs": [],
   "source": [
    "import filterpy.kalman as kf\n",
    "kf.predict(x=10., P=3., u=1., Q=4.)"
   ]
  },
  {
   "cell_type": "markdown",
   "metadata": {},
   "source": [
    "`update` also takes several arguments, but for now you will be interested in these four:\n",
    " \n",
    "```python\n",
    "update(x, P, z, R)\n",
    "```\n",
    " \n",
    "As before, `x` and `P` are the state and variance of the system. `z` is the measurement, and `R` is the measurement variance. Let's perform the last predict statement to get our prior, and then perform an update:"
   ]
  },
  {
   "cell_type": "code",
   "execution_count": null,
   "metadata": {},
   "outputs": [],
   "source": [
    "x, P = kf.predict(x=10., P=3., u=1., Q=2.**2)\n",
    "print(f'{x:.3f}')\n",
    "\n",
    "x, P = kf.update(x=x, P=P, z=12., R=3.5**2)\n",
    "print(f'{x:.3f} {P:.3f}')"
   ]
  },
  {
   "cell_type": "markdown",
   "metadata": {},
   "source": [
    "I gave it a noisy measurement with a big variance, so the estimate remained close to the prior of 11.\n",
    "\n",
    "One final point. I did not use the variable name `prior` for the output of the predict step. I will not use that variable name in the rest of the book. The Kalman filter equations just use $\\mathbf x$. Both the prior and the posterior are the estimated state of the system, the former is the estimate before the measurement is incorporated, and the latter is after the measurement has been incorporated."
   ]
  },
  {
   "cell_type": "markdown",
   "metadata": {},
   "source": [
    "## Summary\n",
    "\n",
    "The Kalman filter that we describe in this chapter is a special, restricted case of the more general filter we will learn next. Most texts do not discuss this one dimensional form. However, I think it is a vital stepping stone. We started the book with the g-h filter, then implemented the discrete Bayes filter, and now implemented the one dimensional Kalman filter. I have tried to show you that each of these filters use the same algorithm and reasoning. The mathematics of the Kalman filter that we will learn shortly is fairly sophisticated, and it can be difficult to understand the underlying simplicity of the filter. That sophistication comes with significant benefits: the generalized filter will markedly outperform the filters in this chapter.\n",
    "\n",
    "This chapter takes time to assimilate. To truly understand it you will probably have to work through this chapter several times. I encourage you to change the various constants in the code and observe the results. Convince yourself that Gaussians are a good representation of a unimodal belief of  the position of a dog in a hallway, the position of an aircraft in the sky, or the temperature of a chemical reaction chamber. Then convince yourself that multiplying Gaussians truly does compute a new belief from your prior belief and the new measurement. Finally, convince yourself that if you are measuring movement, that adding the Gaussians together updates your belief. \n",
    "\n",
    "Most of all, spend enough time with the **Full Description of the Algorithm** section to ensure you understand the algorithm and how it relates to the g-h filter and discrete Bayes filter. There is just one 'trick' here - selecting a value somewhere between a prediction and a measurement. Each algorithm performs that trick with different math, but all use the same logic."
   ]
  }
 ],
 "metadata": {
  "anaconda-cloud": {},
  "kernelspec": {
   "display_name": "Python 3 (ipykernel)",
   "language": "python",
   "name": "python3"
  },
  "language_info": {
   "codemirror_mode": {
    "name": "ipython",
    "version": 3
   },
   "file_extension": ".py",
   "mimetype": "text/x-python",
   "name": "python",
   "nbconvert_exporter": "python",
   "pygments_lexer": "ipython3",
   "version": "3.12.7"
  },
  "widgets": {
   "application/vnd.jupyter.widget-state+json": {
    "state": {
     "0358e78f6f36480cb5ebf0f89f49934b": {
      "model_module": "@jupyter-widgets/controls",
      "model_module_version": "1.5.0",
      "model_name": "SliderStyleModel",
      "state": {
       "_model_module": "@jupyter-widgets/controls",
       "_model_module_version": "1.5.0",
       "_model_name": "SliderStyleModel",
       "_view_count": null,
       "_view_module": "@jupyter-widgets/base",
       "_view_module_version": "1.2.0",
       "_view_name": "StyleView",
       "description_width": "",
       "handle_color": null
      }
     },
     "041e9d6f999b4c2e8dd8006923b45a57": {
      "model_module": "@jupyter-widgets/controls",
      "model_module_version": "1.5.0",
      "model_name": "SliderStyleModel",
      "state": {
       "_model_module": "@jupyter-widgets/controls",
       "_model_module_version": "1.5.0",
       "_model_name": "SliderStyleModel",
       "_view_count": null,
       "_view_module": "@jupyter-widgets/base",
       "_view_module_version": "1.2.0",
       "_view_name": "StyleView",
       "description_width": "",
       "handle_color": null
      }
     },
     "0c66f10d9a2a4902b04094b62e5e154d": {
      "model_module": "@jupyter-widgets/controls",
      "model_module_version": "1.5.0",
      "model_name": "SliderStyleModel",
      "state": {
       "_model_module": "@jupyter-widgets/controls",
       "_model_module_version": "1.5.0",
       "_model_name": "SliderStyleModel",
       "_view_count": null,
       "_view_module": "@jupyter-widgets/base",
       "_view_module_version": "1.2.0",
       "_view_name": "StyleView",
       "description_width": "",
       "handle_color": null
      }
     },
     "0cb91a73b33441158fce28138d0636c7": {
      "model_module": "@jupyter-widgets/base",
      "model_module_version": "1.2.0",
      "model_name": "LayoutModel",
      "state": {
       "_model_module": "@jupyter-widgets/base",
       "_model_module_version": "1.2.0",
       "_model_name": "LayoutModel",
       "_view_count": null,
       "_view_module": "@jupyter-widgets/base",
       "_view_module_version": "1.2.0",
       "_view_name": "LayoutView",
       "align_content": null,
       "align_items": null,
       "align_self": null,
       "border": null,
       "bottom": null,
       "display": null,
       "flex": null,
       "flex_flow": null,
       "grid_area": null,
       "grid_auto_columns": null,
       "grid_auto_flow": null,
       "grid_auto_rows": null,
       "grid_column": null,
       "grid_gap": null,
       "grid_row": null,
       "grid_template_areas": null,
       "grid_template_columns": null,
       "grid_template_rows": null,
       "height": null,
       "justify_content": null,
       "justify_items": null,
       "left": null,
       "margin": null,
       "max_height": null,
       "max_width": null,
       "min_height": null,
       "min_width": null,
       "object_fit": null,
       "object_position": null,
       "order": null,
       "overflow": null,
       "overflow_x": null,
       "overflow_y": null,
       "padding": null,
       "right": null,
       "top": null,
       "visibility": null,
       "width": null
      }
     },
     "16191c7bd4294856ae6f7d7ab9e2bef9": {
      "model_module": "@jupyter-widgets/base",
      "model_module_version": "1.2.0",
      "model_name": "LayoutModel",
      "state": {
       "_model_module": "@jupyter-widgets/base",
       "_model_module_version": "1.2.0",
       "_model_name": "LayoutModel",
       "_view_count": null,
       "_view_module": "@jupyter-widgets/base",
       "_view_module_version": "1.2.0",
       "_view_name": "LayoutView",
       "align_content": null,
       "align_items": null,
       "align_self": null,
       "border": null,
       "bottom": null,
       "display": null,
       "flex": null,
       "flex_flow": null,
       "grid_area": null,
       "grid_auto_columns": null,
       "grid_auto_flow": null,
       "grid_auto_rows": null,
       "grid_column": null,
       "grid_gap": null,
       "grid_row": null,
       "grid_template_areas": null,
       "grid_template_columns": null,
       "grid_template_rows": null,
       "height": null,
       "justify_content": null,
       "justify_items": null,
       "left": null,
       "margin": null,
       "max_height": null,
       "max_width": null,
       "min_height": null,
       "min_width": null,
       "object_fit": null,
       "object_position": null,
       "order": null,
       "overflow": null,
       "overflow_x": null,
       "overflow_y": null,
       "padding": null,
       "right": null,
       "top": null,
       "visibility": null,
       "width": null
      }
     },
     "1ba4c1d94f65462192ffcb9f0a22b848": {
      "model_module": "@jupyter-widgets/base",
      "model_module_version": "1.2.0",
      "model_name": "LayoutModel",
      "state": {
       "_model_module": "@jupyter-widgets/base",
       "_model_module_version": "1.2.0",
       "_model_name": "LayoutModel",
       "_view_count": null,
       "_view_module": "@jupyter-widgets/base",
       "_view_module_version": "1.2.0",
       "_view_name": "LayoutView",
       "align_content": null,
       "align_items": null,
       "align_self": null,
       "border": null,
       "bottom": null,
       "display": null,
       "flex": null,
       "flex_flow": null,
       "grid_area": null,
       "grid_auto_columns": null,
       "grid_auto_flow": null,
       "grid_auto_rows": null,
       "grid_column": null,
       "grid_gap": null,
       "grid_row": null,
       "grid_template_areas": null,
       "grid_template_columns": null,
       "grid_template_rows": null,
       "height": null,
       "justify_content": null,
       "justify_items": null,
       "left": null,
       "margin": null,
       "max_height": null,
       "max_width": null,
       "min_height": null,
       "min_width": null,
       "object_fit": null,
       "object_position": null,
       "order": null,
       "overflow": null,
       "overflow_x": null,
       "overflow_y": null,
       "padding": null,
       "right": null,
       "top": null,
       "visibility": null,
       "width": null
      }
     },
     "1e6ed0bbc3af4016ac96e8084f2a2bef": {
      "model_module": "@jupyter-widgets/controls",
      "model_module_version": "1.5.0",
      "model_name": "SliderStyleModel",
      "state": {
       "_model_module": "@jupyter-widgets/controls",
       "_model_module_version": "1.5.0",
       "_model_name": "SliderStyleModel",
       "_view_count": null,
       "_view_module": "@jupyter-widgets/base",
       "_view_module_version": "1.2.0",
       "_view_name": "StyleView",
       "description_width": "",
       "handle_color": null
      }
     },
     "2a4208cd088b4882a8d5a592f610a41a": {
      "model_module": "@jupyter-widgets/base",
      "model_module_version": "1.2.0",
      "model_name": "LayoutModel",
      "state": {
       "_model_module": "@jupyter-widgets/base",
       "_model_module_version": "1.2.0",
       "_model_name": "LayoutModel",
       "_view_count": null,
       "_view_module": "@jupyter-widgets/base",
       "_view_module_version": "1.2.0",
       "_view_name": "LayoutView",
       "align_content": null,
       "align_items": null,
       "align_self": null,
       "border": null,
       "bottom": null,
       "display": null,
       "flex": null,
       "flex_flow": null,
       "grid_area": null,
       "grid_auto_columns": null,
       "grid_auto_flow": null,
       "grid_auto_rows": null,
       "grid_column": null,
       "grid_gap": null,
       "grid_row": null,
       "grid_template_areas": null,
       "grid_template_columns": null,
       "grid_template_rows": null,
       "height": null,
       "justify_content": null,
       "justify_items": null,
       "left": null,
       "margin": null,
       "max_height": null,
       "max_width": null,
       "min_height": null,
       "min_width": null,
       "object_fit": null,
       "object_position": null,
       "order": null,
       "overflow": null,
       "overflow_x": null,
       "overflow_y": null,
       "padding": null,
       "right": null,
       "top": null,
       "visibility": null,
       "width": null
      }
     },
     "2a738977ecb549a993d47244d6ac50fd": {
      "model_module": "@jupyter-widgets/base",
      "model_module_version": "1.2.0",
      "model_name": "LayoutModel",
      "state": {
       "_model_module": "@jupyter-widgets/base",
       "_model_module_version": "1.2.0",
       "_model_name": "LayoutModel",
       "_view_count": null,
       "_view_module": "@jupyter-widgets/base",
       "_view_module_version": "1.2.0",
       "_view_name": "LayoutView",
       "align_content": null,
       "align_items": null,
       "align_self": null,
       "border": null,
       "bottom": null,
       "display": null,
       "flex": null,
       "flex_flow": null,
       "grid_area": null,
       "grid_auto_columns": null,
       "grid_auto_flow": null,
       "grid_auto_rows": null,
       "grid_column": null,
       "grid_gap": null,
       "grid_row": null,
       "grid_template_areas": null,
       "grid_template_columns": null,
       "grid_template_rows": null,
       "height": null,
       "justify_content": null,
       "justify_items": null,
       "left": null,
       "margin": null,
       "max_height": null,
       "max_width": null,
       "min_height": null,
       "min_width": null,
       "object_fit": null,
       "object_position": null,
       "order": null,
       "overflow": null,
       "overflow_x": null,
       "overflow_y": null,
       "padding": null,
       "right": null,
       "top": null,
       "visibility": null,
       "width": null
      }
     },
     "2b5d38d7b2774008a7eeb84c37bcfb1a": {
      "model_module": "@jupyter-widgets/controls",
      "model_module_version": "1.5.0",
      "model_name": "FloatSliderModel",
      "state": {
       "_dom_classes": [],
       "_model_module": "@jupyter-widgets/controls",
       "_model_module_version": "1.5.0",
       "_model_name": "FloatSliderModel",
       "_view_count": null,
       "_view_module": "@jupyter-widgets/controls",
       "_view_module_version": "1.5.0",
       "_view_name": "FloatSliderView",
       "continuous_update": false,
       "description": "sensor_noise",
       "description_tooltip": null,
       "disabled": false,
       "layout": "IPY_MODEL_c14c7c9853874ef0a496e114210eae6f",
       "max": 100,
       "min": 0,
       "orientation": "horizontal",
       "readout": true,
       "readout_format": ".2f",
       "step": 0.1,
       "style": "IPY_MODEL_5d214435449b45529e6a52291dcc1866",
       "value": 5
      }
     },
     "3109e908fc98419d806699d7a2880531": {
      "model_module": "@jupyter-widgets/controls",
      "model_module_version": "1.5.0",
      "model_name": "SliderStyleModel",
      "state": {
       "_model_module": "@jupyter-widgets/controls",
       "_model_module_version": "1.5.0",
       "_model_name": "SliderStyleModel",
       "_view_count": null,
       "_view_module": "@jupyter-widgets/base",
       "_view_module_version": "1.2.0",
       "_view_name": "StyleView",
       "description_width": "",
       "handle_color": null
      }
     },
     "38e20eaaa9024a7092c43257bf6e5a68": {
      "model_module": "@jupyter-widgets/output",
      "model_module_version": "1.0.0",
      "model_name": "OutputModel",
      "state": {
       "_dom_classes": [],
       "_model_module": "@jupyter-widgets/output",
       "_model_module_version": "1.0.0",
       "_model_name": "OutputModel",
       "_view_count": null,
       "_view_module": "@jupyter-widgets/output",
       "_view_module_version": "1.0.0",
       "_view_name": "OutputView",
       "layout": "IPY_MODEL_0cb91a73b33441158fce28138d0636c7",
       "msg_id": "",
       "outputs": []
      }
     },
     "3984603d140f4245ae402c3abf88710a": {
      "model_module": "@jupyter-widgets/base",
      "model_module_version": "1.2.0",
      "model_name": "LayoutModel",
      "state": {
       "_model_module": "@jupyter-widgets/base",
       "_model_module_version": "1.2.0",
       "_model_name": "LayoutModel",
       "_view_count": null,
       "_view_module": "@jupyter-widgets/base",
       "_view_module_version": "1.2.0",
       "_view_name": "LayoutView",
       "align_content": null,
       "align_items": null,
       "align_self": null,
       "border": null,
       "bottom": null,
       "display": null,
       "flex": null,
       "flex_flow": null,
       "grid_area": null,
       "grid_auto_columns": null,
       "grid_auto_flow": null,
       "grid_auto_rows": null,
       "grid_column": null,
       "grid_gap": null,
       "grid_row": null,
       "grid_template_areas": null,
       "grid_template_columns": null,
       "grid_template_rows": null,
       "height": null,
       "justify_content": null,
       "justify_items": null,
       "left": null,
       "margin": null,
       "max_height": null,
       "max_width": null,
       "min_height": null,
       "min_width": null,
       "object_fit": null,
       "object_position": null,
       "order": null,
       "overflow": null,
       "overflow_x": null,
       "overflow_y": null,
       "padding": null,
       "right": null,
       "top": null,
       "visibility": null,
       "width": null
      }
     },
     "39b233342714416aa2a0a329dc931641": {
      "model_module": "@jupyter-widgets/base",
      "model_module_version": "1.2.0",
      "model_name": "LayoutModel",
      "state": {
       "_model_module": "@jupyter-widgets/base",
       "_model_module_version": "1.2.0",
       "_model_name": "LayoutModel",
       "_view_count": null,
       "_view_module": "@jupyter-widgets/base",
       "_view_module_version": "1.2.0",
       "_view_name": "LayoutView",
       "align_content": null,
       "align_items": null,
       "align_self": null,
       "border": null,
       "bottom": null,
       "display": null,
       "flex": null,
       "flex_flow": null,
       "grid_area": null,
       "grid_auto_columns": null,
       "grid_auto_flow": null,
       "grid_auto_rows": null,
       "grid_column": null,
       "grid_gap": null,
       "grid_row": null,
       "grid_template_areas": null,
       "grid_template_columns": null,
       "grid_template_rows": null,
       "height": null,
       "justify_content": null,
       "justify_items": null,
       "left": null,
       "margin": null,
       "max_height": null,
       "max_width": null,
       "min_height": null,
       "min_width": null,
       "object_fit": null,
       "object_position": null,
       "order": null,
       "overflow": null,
       "overflow_x": null,
       "overflow_y": null,
       "padding": null,
       "right": null,
       "top": null,
       "visibility": null,
       "width": null
      }
     },
     "3e977b7cfed94243a71c70bcb8c918a2": {
      "model_module": "@jupyter-widgets/controls",
      "model_module_version": "1.5.0",
      "model_name": "VBoxModel",
      "state": {
       "_dom_classes": [
        "widget-interact"
       ],
       "_model_module": "@jupyter-widgets/controls",
       "_model_module_version": "1.5.0",
       "_model_name": "VBoxModel",
       "_view_count": null,
       "_view_module": "@jupyter-widgets/controls",
       "_view_module_version": "1.5.0",
       "_view_name": "VBoxView",
       "box_style": "",
       "children": [
        "IPY_MODEL_41f1078f32254aa7b820bdd425d0896e",
        "IPY_MODEL_62808e56615d416491559e92ff34d5f1",
        "IPY_MODEL_82fb3c28b0f74a83becd6d65cbfa313a",
        "IPY_MODEL_618b63b1caa54ba99541fbae4f78d2dc",
        "IPY_MODEL_ba41ac9b29af49329e1ef8680bebbdf9"
       ],
       "layout": "IPY_MODEL_962322a3acc94c34a4845d91e7097787"
      }
     },
     "40cea4dd9a854916b0a7036a2a961e3d": {
      "model_module": "@jupyter-widgets/controls",
      "model_module_version": "1.5.0",
      "model_name": "IntSliderModel",
      "state": {
       "_dom_classes": [],
       "_model_module": "@jupyter-widgets/controls",
       "_model_module_version": "1.5.0",
       "_model_name": "IntSliderModel",
       "_view_count": null,
       "_view_module": "@jupyter-widgets/controls",
       "_view_module_version": "1.5.0",
       "_view_name": "IntSliderView",
       "continuous_update": true,
       "description": "start_pos",
       "description_tooltip": null,
       "disabled": false,
       "layout": "IPY_MODEL_a588d2a1208542fcbd5eba235f75ef56",
       "max": 10,
       "min": -10,
       "orientation": "horizontal",
       "readout": true,
       "readout_format": "d",
       "step": 1,
       "style": "IPY_MODEL_8dfce204eadc41ea87d489d85bb563a7",
       "value": 0
      }
     },
     "41592f65aa444b6689cee2940b11c9e9": {
      "model_module": "@jupyter-widgets/base",
      "model_module_version": "1.2.0",
      "model_name": "LayoutModel",
      "state": {
       "_model_module": "@jupyter-widgets/base",
       "_model_module_version": "1.2.0",
       "_model_name": "LayoutModel",
       "_view_count": null,
       "_view_module": "@jupyter-widgets/base",
       "_view_module_version": "1.2.0",
       "_view_name": "LayoutView",
       "align_content": null,
       "align_items": null,
       "align_self": null,
       "border": null,
       "bottom": null,
       "display": null,
       "flex": null,
       "flex_flow": null,
       "grid_area": null,
       "grid_auto_columns": null,
       "grid_auto_flow": null,
       "grid_auto_rows": null,
       "grid_column": null,
       "grid_gap": null,
       "grid_row": null,
       "grid_template_areas": null,
       "grid_template_columns": null,
       "grid_template_rows": null,
       "height": null,
       "justify_content": null,
       "justify_items": null,
       "left": null,
       "margin": null,
       "max_height": null,
       "max_width": null,
       "min_height": null,
       "min_width": null,
       "object_fit": null,
       "object_position": null,
       "order": null,
       "overflow": null,
       "overflow_x": null,
       "overflow_y": null,
       "padding": null,
       "right": null,
       "top": null,
       "visibility": null,
       "width": null
      }
     },
     "41f1078f32254aa7b820bdd425d0896e": {
      "model_module": "@jupyter-widgets/controls",
      "model_module_version": "1.5.0",
      "model_name": "IntSliderModel",
      "state": {
       "_dom_classes": [],
       "_model_module": "@jupyter-widgets/controls",
       "_model_module_version": "1.5.0",
       "_model_name": "IntSliderModel",
       "_view_count": null,
       "_view_module": "@jupyter-widgets/controls",
       "_view_module_version": "1.5.0",
       "_view_name": "IntSliderView",
       "continuous_update": true,
       "description": "start_pos",
       "description_tooltip": null,
       "disabled": false,
       "layout": "IPY_MODEL_b250bfdd55e34b608edb8d2e14a17081",
       "max": 10,
       "min": -10,
       "orientation": "horizontal",
       "readout": true,
       "readout_format": "d",
       "step": 1,
       "style": "IPY_MODEL_ea5aed6a83894ad0a4568fa111331625",
       "value": 0
      }
     },
     "4201a1f5e7e24c68b9d8e54e47d28aad": {
      "model_module": "@jupyter-widgets/base",
      "model_module_version": "1.2.0",
      "model_name": "LayoutModel",
      "state": {
       "_model_module": "@jupyter-widgets/base",
       "_model_module_version": "1.2.0",
       "_model_name": "LayoutModel",
       "_view_count": null,
       "_view_module": "@jupyter-widgets/base",
       "_view_module_version": "1.2.0",
       "_view_name": "LayoutView",
       "align_content": null,
       "align_items": null,
       "align_self": null,
       "border": null,
       "bottom": null,
       "display": null,
       "flex": null,
       "flex_flow": null,
       "grid_area": null,
       "grid_auto_columns": null,
       "grid_auto_flow": null,
       "grid_auto_rows": null,
       "grid_column": null,
       "grid_gap": null,
       "grid_row": null,
       "grid_template_areas": null,
       "grid_template_columns": null,
       "grid_template_rows": null,
       "height": null,
       "justify_content": null,
       "justify_items": null,
       "left": null,
       "margin": null,
       "max_height": null,
       "max_width": null,
       "min_height": null,
       "min_width": null,
       "object_fit": null,
       "object_position": null,
       "order": null,
       "overflow": null,
       "overflow_x": null,
       "overflow_y": null,
       "padding": null,
       "right": null,
       "top": null,
       "visibility": null,
       "width": null
      }
     },
     "4392b29d01ba46ce8e8dd84d04fa326a": {
      "model_module": "@jupyter-widgets/controls",
      "model_module_version": "1.5.0",
      "model_name": "SliderStyleModel",
      "state": {
       "_model_module": "@jupyter-widgets/controls",
       "_model_module_version": "1.5.0",
       "_model_name": "SliderStyleModel",
       "_view_count": null,
       "_view_module": "@jupyter-widgets/base",
       "_view_module_version": "1.2.0",
       "_view_name": "StyleView",
       "description_width": "",
       "handle_color": null
      }
     },
     "4b951bc3ddb24e2f975b6c8f168285a3": {
      "model_module": "@jupyter-widgets/controls",
      "model_module_version": "1.5.0",
      "model_name": "SliderStyleModel",
      "state": {
       "_model_module": "@jupyter-widgets/controls",
       "_model_module_version": "1.5.0",
       "_model_name": "SliderStyleModel",
       "_view_count": null,
       "_view_module": "@jupyter-widgets/base",
       "_view_module_version": "1.2.0",
       "_view_name": "StyleView",
       "description_width": "",
       "handle_color": null
      }
     },
     "5328932ead3145c2884c7a9eb24f5e62": {
      "model_module": "@jupyter-widgets/controls",
      "model_module_version": "1.5.0",
      "model_name": "FloatSliderModel",
      "state": {
       "_dom_classes": [],
       "_model_module": "@jupyter-widgets/controls",
       "_model_module_version": "1.5.0",
       "_model_name": "FloatSliderModel",
       "_view_count": null,
       "_view_module": "@jupyter-widgets/controls",
       "_view_module_version": "1.5.0",
       "_view_name": "FloatSliderView",
       "continuous_update": true,
       "description": "v1",
       "description_tooltip": null,
       "disabled": false,
       "layout": "IPY_MODEL_6fc9d6a25d424100be095b70f12b9ccb",
       "max": 2,
       "min": 0.1,
       "orientation": "horizontal",
       "readout": true,
       "readout_format": ".2f",
       "step": 0.1,
       "style": "IPY_MODEL_041e9d6f999b4c2e8dd8006923b45a57",
       "value": 1
      }
     },
     "5d214435449b45529e6a52291dcc1866": {
      "model_module": "@jupyter-widgets/controls",
      "model_module_version": "1.5.0",
      "model_name": "SliderStyleModel",
      "state": {
       "_model_module": "@jupyter-widgets/controls",
       "_model_module_version": "1.5.0",
       "_model_name": "SliderStyleModel",
       "_view_count": null,
       "_view_module": "@jupyter-widgets/base",
       "_view_module_version": "1.2.0",
       "_view_name": "StyleView",
       "description_width": "",
       "handle_color": null
      }
     },
     "5f42b0854cd24b25a613131fa6af4a63": {
      "model_module": "@jupyter-widgets/controls",
      "model_module_version": "1.5.0",
      "model_name": "FloatSliderModel",
      "state": {
       "_dom_classes": [],
       "_model_module": "@jupyter-widgets/controls",
       "_model_module_version": "1.5.0",
       "_model_name": "FloatSliderModel",
       "_view_count": null,
       "_view_module": "@jupyter-widgets/controls",
       "_view_module_version": "1.5.0",
       "_view_name": "FloatSliderView",
       "continuous_update": true,
       "description": "m2",
       "description_tooltip": null,
       "disabled": false,
       "layout": "IPY_MODEL_41592f65aa444b6689cee2940b11c9e9",
       "max": 15,
       "min": 10,
       "orientation": "horizontal",
       "readout": true,
       "readout_format": ".2f",
       "step": 0.5,
       "style": "IPY_MODEL_1e6ed0bbc3af4016ac96e8084f2a2bef",
       "value": 12
      }
     },
     "618b63b1caa54ba99541fbae4f78d2dc": {
      "model_module": "@jupyter-widgets/controls",
      "model_module_version": "1.5.0",
      "model_name": "FloatSliderModel",
      "state": {
       "_dom_classes": [],
       "_model_module": "@jupyter-widgets/controls",
       "_model_module_version": "1.5.0",
       "_model_name": "FloatSliderModel",
       "_view_count": null,
       "_view_module": "@jupyter-widgets/controls",
       "_view_module_version": "1.5.0",
       "_view_name": "FloatSliderView",
       "continuous_update": false,
       "description": "process_noise",
       "description_tooltip": null,
       "disabled": false,
       "layout": "IPY_MODEL_a5a5eff11fd5487cb1b87e15a4af8a80",
       "max": 100,
       "min": 0,
       "orientation": "horizontal",
       "readout": true,
       "readout_format": ".2f",
       "step": 0.1,
       "style": "IPY_MODEL_6a64998029a04ff3bd5d93a2d1fba2f8",
       "value": 5
      }
     },
     "61b17c1656c6477693ff3ec0db2c5844": {
      "model_module": "@jupyter-widgets/controls",
      "model_module_version": "1.5.0",
      "model_name": "FloatSliderModel",
      "state": {
       "_dom_classes": [],
       "_model_module": "@jupyter-widgets/controls",
       "_model_module_version": "1.5.0",
       "_model_name": "FloatSliderModel",
       "_view_count": null,
       "_view_module": "@jupyter-widgets/controls",
       "_view_module_version": "1.5.0",
       "_view_name": "FloatSliderView",
       "continuous_update": false,
       "description": "velocity",
       "description_tooltip": null,
       "disabled": false,
       "layout": "IPY_MODEL_ee15c3b7c9e84f62b4e1faab168a87b6",
       "max": 2,
       "min": -2,
       "orientation": "horizontal",
       "readout": true,
       "readout_format": ".2f",
       "step": 0.1,
       "style": "IPY_MODEL_0358e78f6f36480cb5ebf0f89f49934b",
       "value": 1
      }
     },
     "62808e56615d416491559e92ff34d5f1": {
      "model_module": "@jupyter-widgets/controls",
      "model_module_version": "1.5.0",
      "model_name": "FloatSliderModel",
      "state": {
       "_dom_classes": [],
       "_model_module": "@jupyter-widgets/controls",
       "_model_module_version": "1.5.0",
       "_model_name": "FloatSliderModel",
       "_view_count": null,
       "_view_module": "@jupyter-widgets/controls",
       "_view_module_version": "1.5.0",
       "_view_name": "FloatSliderView",
       "continuous_update": false,
       "description": "sensor_noise",
       "description_tooltip": null,
       "disabled": false,
       "layout": "IPY_MODEL_2a738977ecb549a993d47244d6ac50fd",
       "max": 100,
       "min": 0,
       "orientation": "horizontal",
       "readout": true,
       "readout_format": ".2f",
       "step": 0.1,
       "style": "IPY_MODEL_b85af9dfbd9042faa46d1a49a5f303ed",
       "value": 5
      }
     },
     "63d0e481df73436bb8cbe263dac07a3d": {
      "model_module": "@jupyter-widgets/controls",
      "model_module_version": "1.5.0",
      "model_name": "FloatSliderModel",
      "state": {
       "_dom_classes": [],
       "_model_module": "@jupyter-widgets/controls",
       "_model_module_version": "1.5.0",
       "_model_name": "FloatSliderModel",
       "_view_count": null,
       "_view_module": "@jupyter-widgets/controls",
       "_view_module_version": "1.5.0",
       "_view_name": "FloatSliderView",
       "continuous_update": false,
       "description": "process_noise",
       "description_tooltip": null,
       "disabled": false,
       "layout": "IPY_MODEL_2a4208cd088b4882a8d5a592f610a41a",
       "max": 40,
       "min": 0,
       "orientation": "horizontal",
       "readout": true,
       "readout_format": ".2f",
       "step": 0.1,
       "style": "IPY_MODEL_3109e908fc98419d806699d7a2880531",
       "value": 0.1
      }
     },
     "672aead129ee424398d8038aa1a35bec": {
      "model_module": "@jupyter-widgets/base",
      "model_module_version": "1.2.0",
      "model_name": "LayoutModel",
      "state": {
       "_model_module": "@jupyter-widgets/base",
       "_model_module_version": "1.2.0",
       "_model_name": "LayoutModel",
       "_view_count": null,
       "_view_module": "@jupyter-widgets/base",
       "_view_module_version": "1.2.0",
       "_view_name": "LayoutView",
       "align_content": null,
       "align_items": null,
       "align_self": null,
       "border": null,
       "bottom": null,
       "display": null,
       "flex": null,
       "flex_flow": null,
       "grid_area": null,
       "grid_auto_columns": null,
       "grid_auto_flow": null,
       "grid_auto_rows": null,
       "grid_column": null,
       "grid_gap": null,
       "grid_row": null,
       "grid_template_areas": null,
       "grid_template_columns": null,
       "grid_template_rows": null,
       "height": null,
       "justify_content": null,
       "justify_items": null,
       "left": null,
       "margin": null,
       "max_height": null,
       "max_width": null,
       "min_height": null,
       "min_width": null,
       "object_fit": null,
       "object_position": null,
       "order": null,
       "overflow": null,
       "overflow_x": null,
       "overflow_y": null,
       "padding": null,
       "right": null,
       "top": null,
       "visibility": null,
       "width": null
      }
     },
     "6a64998029a04ff3bd5d93a2d1fba2f8": {
      "model_module": "@jupyter-widgets/controls",
      "model_module_version": "1.5.0",
      "model_name": "SliderStyleModel",
      "state": {
       "_model_module": "@jupyter-widgets/controls",
       "_model_module_version": "1.5.0",
       "_model_name": "SliderStyleModel",
       "_view_count": null,
       "_view_module": "@jupyter-widgets/base",
       "_view_module_version": "1.2.0",
       "_view_name": "StyleView",
       "description_width": "",
       "handle_color": null
      }
     },
     "6a9da3a29b25419eb33c946c4347212f": {
      "model_module": "@jupyter-widgets/controls",
      "model_module_version": "1.5.0",
      "model_name": "FloatSliderModel",
      "state": {
       "_dom_classes": [],
       "_model_module": "@jupyter-widgets/controls",
       "_model_module_version": "1.5.0",
       "_model_name": "FloatSliderModel",
       "_view_count": null,
       "_view_module": "@jupyter-widgets/controls",
       "_view_module_version": "1.5.0",
       "_view_name": "FloatSliderView",
       "continuous_update": true,
       "description": "v2",
       "description_tooltip": null,
       "disabled": false,
       "layout": "IPY_MODEL_39b233342714416aa2a0a329dc931641",
       "max": 2,
       "min": 0.1,
       "orientation": "horizontal",
       "readout": true,
       "readout_format": ".2f",
       "step": 0.1,
       "style": "IPY_MODEL_0c66f10d9a2a4902b04094b62e5e154d",
       "value": 1
      }
     },
     "6e8ff778989f4724a96bc66efc9dc29d": {
      "model_module": "@jupyter-widgets/controls",
      "model_module_version": "1.5.0",
      "model_name": "IntSliderModel",
      "state": {
       "_dom_classes": [],
       "_model_module": "@jupyter-widgets/controls",
       "_model_module_version": "1.5.0",
       "_model_name": "IntSliderModel",
       "_view_count": null,
       "_view_module": "@jupyter-widgets/controls",
       "_view_module_version": "1.5.0",
       "_view_name": "IntSliderView",
       "continuous_update": true,
       "description": "step",
       "description_tooltip": null,
       "disabled": false,
       "layout": "IPY_MODEL_ee9177e774d7450f863ecaca7c8c150a",
       "max": 30,
       "min": 1,
       "orientation": "horizontal",
       "readout": true,
       "readout_format": "d",
       "step": 1,
       "style": "IPY_MODEL_4392b29d01ba46ce8e8dd84d04fa326a",
       "value": 1
      }
     },
     "6fc9d6a25d424100be095b70f12b9ccb": {
      "model_module": "@jupyter-widgets/base",
      "model_module_version": "1.2.0",
      "model_name": "LayoutModel",
      "state": {
       "_model_module": "@jupyter-widgets/base",
       "_model_module_version": "1.2.0",
       "_model_name": "LayoutModel",
       "_view_count": null,
       "_view_module": "@jupyter-widgets/base",
       "_view_module_version": "1.2.0",
       "_view_name": "LayoutView",
       "align_content": null,
       "align_items": null,
       "align_self": null,
       "border": null,
       "bottom": null,
       "display": null,
       "flex": null,
       "flex_flow": null,
       "grid_area": null,
       "grid_auto_columns": null,
       "grid_auto_flow": null,
       "grid_auto_rows": null,
       "grid_column": null,
       "grid_gap": null,
       "grid_row": null,
       "grid_template_areas": null,
       "grid_template_columns": null,
       "grid_template_rows": null,
       "height": null,
       "justify_content": null,
       "justify_items": null,
       "left": null,
       "margin": null,
       "max_height": null,
       "max_width": null,
       "min_height": null,
       "min_width": null,
       "object_fit": null,
       "object_position": null,
       "order": null,
       "overflow": null,
       "overflow_x": null,
       "overflow_y": null,
       "padding": null,
       "right": null,
       "top": null,
       "visibility": null,
       "width": null
      }
     },
     "82fb3c28b0f74a83becd6d65cbfa313a": {
      "model_module": "@jupyter-widgets/controls",
      "model_module_version": "1.5.0",
      "model_name": "FloatSliderModel",
      "state": {
       "_dom_classes": [],
       "_model_module": "@jupyter-widgets/controls",
       "_model_module_version": "1.5.0",
       "_model_name": "FloatSliderModel",
       "_view_count": null,
       "_view_module": "@jupyter-widgets/controls",
       "_view_module_version": "1.5.0",
       "_view_name": "FloatSliderView",
       "continuous_update": false,
       "description": "velocity",
       "description_tooltip": null,
       "disabled": false,
       "layout": "IPY_MODEL_b4ae3832588c476aa88f2895267337e5",
       "max": 2,
       "min": -2,
       "orientation": "horizontal",
       "readout": true,
       "readout_format": ".2f",
       "step": 0.1,
       "style": "IPY_MODEL_4b951bc3ddb24e2f975b6c8f168285a3",
       "value": 1
      }
     },
     "8dfce204eadc41ea87d489d85bb563a7": {
      "model_module": "@jupyter-widgets/controls",
      "model_module_version": "1.5.0",
      "model_name": "SliderStyleModel",
      "state": {
       "_model_module": "@jupyter-widgets/controls",
       "_model_module_version": "1.5.0",
       "_model_name": "SliderStyleModel",
       "_view_count": null,
       "_view_module": "@jupyter-widgets/base",
       "_view_module_version": "1.2.0",
       "_view_name": "StyleView",
       "description_width": "",
       "handle_color": null
      }
     },
     "962322a3acc94c34a4845d91e7097787": {
      "model_module": "@jupyter-widgets/base",
      "model_module_version": "1.2.0",
      "model_name": "LayoutModel",
      "state": {
       "_model_module": "@jupyter-widgets/base",
       "_model_module_version": "1.2.0",
       "_model_name": "LayoutModel",
       "_view_count": null,
       "_view_module": "@jupyter-widgets/base",
       "_view_module_version": "1.2.0",
       "_view_name": "LayoutView",
       "align_content": null,
       "align_items": null,
       "align_self": null,
       "border": null,
       "bottom": null,
       "display": null,
       "flex": null,
       "flex_flow": null,
       "grid_area": null,
       "grid_auto_columns": null,
       "grid_auto_flow": null,
       "grid_auto_rows": null,
       "grid_column": null,
       "grid_gap": null,
       "grid_row": null,
       "grid_template_areas": null,
       "grid_template_columns": null,
       "grid_template_rows": null,
       "height": null,
       "justify_content": null,
       "justify_items": null,
       "left": null,
       "margin": null,
       "max_height": null,
       "max_width": null,
       "min_height": null,
       "min_width": null,
       "object_fit": null,
       "object_position": null,
       "order": null,
       "overflow": null,
       "overflow_x": null,
       "overflow_y": null,
       "padding": null,
       "right": null,
       "top": null,
       "visibility": null,
       "width": null
      }
     },
     "9941654d582e4a399135e4e2630ef016": {
      "model_module": "@jupyter-widgets/base",
      "model_module_version": "1.2.0",
      "model_name": "LayoutModel",
      "state": {
       "_model_module": "@jupyter-widgets/base",
       "_model_module_version": "1.2.0",
       "_model_name": "LayoutModel",
       "_view_count": null,
       "_view_module": "@jupyter-widgets/base",
       "_view_module_version": "1.2.0",
       "_view_name": "LayoutView",
       "align_content": null,
       "align_items": null,
       "align_self": null,
       "border": null,
       "bottom": null,
       "display": null,
       "flex": null,
       "flex_flow": null,
       "grid_area": null,
       "grid_auto_columns": null,
       "grid_auto_flow": null,
       "grid_auto_rows": null,
       "grid_column": null,
       "grid_gap": null,
       "grid_row": null,
       "grid_template_areas": null,
       "grid_template_columns": null,
       "grid_template_rows": null,
       "height": null,
       "justify_content": null,
       "justify_items": null,
       "left": null,
       "margin": null,
       "max_height": null,
       "max_width": null,
       "min_height": null,
       "min_width": null,
       "object_fit": null,
       "object_position": null,
       "order": null,
       "overflow": null,
       "overflow_x": null,
       "overflow_y": null,
       "padding": null,
       "right": null,
       "top": null,
       "visibility": null,
       "width": null
      }
     },
     "a588d2a1208542fcbd5eba235f75ef56": {
      "model_module": "@jupyter-widgets/base",
      "model_module_version": "1.2.0",
      "model_name": "LayoutModel",
      "state": {
       "_model_module": "@jupyter-widgets/base",
       "_model_module_version": "1.2.0",
       "_model_name": "LayoutModel",
       "_view_count": null,
       "_view_module": "@jupyter-widgets/base",
       "_view_module_version": "1.2.0",
       "_view_name": "LayoutView",
       "align_content": null,
       "align_items": null,
       "align_self": null,
       "border": null,
       "bottom": null,
       "display": null,
       "flex": null,
       "flex_flow": null,
       "grid_area": null,
       "grid_auto_columns": null,
       "grid_auto_flow": null,
       "grid_auto_rows": null,
       "grid_column": null,
       "grid_gap": null,
       "grid_row": null,
       "grid_template_areas": null,
       "grid_template_columns": null,
       "grid_template_rows": null,
       "height": null,
       "justify_content": null,
       "justify_items": null,
       "left": null,
       "margin": null,
       "max_height": null,
       "max_width": null,
       "min_height": null,
       "min_width": null,
       "object_fit": null,
       "object_position": null,
       "order": null,
       "overflow": null,
       "overflow_x": null,
       "overflow_y": null,
       "padding": null,
       "right": null,
       "top": null,
       "visibility": null,
       "width": null
      }
     },
     "a5a5eff11fd5487cb1b87e15a4af8a80": {
      "model_module": "@jupyter-widgets/base",
      "model_module_version": "1.2.0",
      "model_name": "LayoutModel",
      "state": {
       "_model_module": "@jupyter-widgets/base",
       "_model_module_version": "1.2.0",
       "_model_name": "LayoutModel",
       "_view_count": null,
       "_view_module": "@jupyter-widgets/base",
       "_view_module_version": "1.2.0",
       "_view_name": "LayoutView",
       "align_content": null,
       "align_items": null,
       "align_self": null,
       "border": null,
       "bottom": null,
       "display": null,
       "flex": null,
       "flex_flow": null,
       "grid_area": null,
       "grid_auto_columns": null,
       "grid_auto_flow": null,
       "grid_auto_rows": null,
       "grid_column": null,
       "grid_gap": null,
       "grid_row": null,
       "grid_template_areas": null,
       "grid_template_columns": null,
       "grid_template_rows": null,
       "height": null,
       "justify_content": null,
       "justify_items": null,
       "left": null,
       "margin": null,
       "max_height": null,
       "max_width": null,
       "min_height": null,
       "min_width": null,
       "object_fit": null,
       "object_position": null,
       "order": null,
       "overflow": null,
       "overflow_x": null,
       "overflow_y": null,
       "padding": null,
       "right": null,
       "top": null,
       "visibility": null,
       "width": null
      }
     },
     "aea352b1772c4625aae4c2793d43295c": {
      "model_module": "@jupyter-widgets/controls",
      "model_module_version": "1.5.0",
      "model_name": "SliderStyleModel",
      "state": {
       "_model_module": "@jupyter-widgets/controls",
       "_model_module_version": "1.5.0",
       "_model_name": "SliderStyleModel",
       "_view_count": null,
       "_view_module": "@jupyter-widgets/base",
       "_view_module_version": "1.2.0",
       "_view_name": "StyleView",
       "description_width": "",
       "handle_color": null
      }
     },
     "b250bfdd55e34b608edb8d2e14a17081": {
      "model_module": "@jupyter-widgets/base",
      "model_module_version": "1.2.0",
      "model_name": "LayoutModel",
      "state": {
       "_model_module": "@jupyter-widgets/base",
       "_model_module_version": "1.2.0",
       "_model_name": "LayoutModel",
       "_view_count": null,
       "_view_module": "@jupyter-widgets/base",
       "_view_module_version": "1.2.0",
       "_view_name": "LayoutView",
       "align_content": null,
       "align_items": null,
       "align_self": null,
       "border": null,
       "bottom": null,
       "display": null,
       "flex": null,
       "flex_flow": null,
       "grid_area": null,
       "grid_auto_columns": null,
       "grid_auto_flow": null,
       "grid_auto_rows": null,
       "grid_column": null,
       "grid_gap": null,
       "grid_row": null,
       "grid_template_areas": null,
       "grid_template_columns": null,
       "grid_template_rows": null,
       "height": null,
       "justify_content": null,
       "justify_items": null,
       "left": null,
       "margin": null,
       "max_height": null,
       "max_width": null,
       "min_height": null,
       "min_width": null,
       "object_fit": null,
       "object_position": null,
       "order": null,
       "overflow": null,
       "overflow_x": null,
       "overflow_y": null,
       "padding": null,
       "right": null,
       "top": null,
       "visibility": null,
       "width": null
      }
     },
     "b4ae3832588c476aa88f2895267337e5": {
      "model_module": "@jupyter-widgets/base",
      "model_module_version": "1.2.0",
      "model_name": "LayoutModel",
      "state": {
       "_model_module": "@jupyter-widgets/base",
       "_model_module_version": "1.2.0",
       "_model_name": "LayoutModel",
       "_view_count": null,
       "_view_module": "@jupyter-widgets/base",
       "_view_module_version": "1.2.0",
       "_view_name": "LayoutView",
       "align_content": null,
       "align_items": null,
       "align_self": null,
       "border": null,
       "bottom": null,
       "display": null,
       "flex": null,
       "flex_flow": null,
       "grid_area": null,
       "grid_auto_columns": null,
       "grid_auto_flow": null,
       "grid_auto_rows": null,
       "grid_column": null,
       "grid_gap": null,
       "grid_row": null,
       "grid_template_areas": null,
       "grid_template_columns": null,
       "grid_template_rows": null,
       "height": null,
       "justify_content": null,
       "justify_items": null,
       "left": null,
       "margin": null,
       "max_height": null,
       "max_width": null,
       "min_height": null,
       "min_width": null,
       "object_fit": null,
       "object_position": null,
       "order": null,
       "overflow": null,
       "overflow_x": null,
       "overflow_y": null,
       "padding": null,
       "right": null,
       "top": null,
       "visibility": null,
       "width": null
      }
     },
     "b85af9dfbd9042faa46d1a49a5f303ed": {
      "model_module": "@jupyter-widgets/controls",
      "model_module_version": "1.5.0",
      "model_name": "SliderStyleModel",
      "state": {
       "_model_module": "@jupyter-widgets/controls",
       "_model_module_version": "1.5.0",
       "_model_name": "SliderStyleModel",
       "_view_count": null,
       "_view_module": "@jupyter-widgets/base",
       "_view_module_version": "1.2.0",
       "_view_name": "StyleView",
       "description_width": "",
       "handle_color": null
      }
     },
     "ba41ac9b29af49329e1ef8680bebbdf9": {
      "model_module": "@jupyter-widgets/output",
      "model_module_version": "1.0.0",
      "model_name": "OutputModel",
      "state": {
       "_dom_classes": [],
       "_model_module": "@jupyter-widgets/output",
       "_model_module_version": "1.0.0",
       "_model_name": "OutputModel",
       "_view_count": null,
       "_view_module": "@jupyter-widgets/output",
       "_view_module_version": "1.0.0",
       "_view_name": "OutputView",
       "layout": "IPY_MODEL_672aead129ee424398d8038aa1a35bec",
       "msg_id": "",
       "outputs": []
      }
     },
     "c14c7c9853874ef0a496e114210eae6f": {
      "model_module": "@jupyter-widgets/base",
      "model_module_version": "1.2.0",
      "model_name": "LayoutModel",
      "state": {
       "_model_module": "@jupyter-widgets/base",
       "_model_module_version": "1.2.0",
       "_model_name": "LayoutModel",
       "_view_count": null,
       "_view_module": "@jupyter-widgets/base",
       "_view_module_version": "1.2.0",
       "_view_name": "LayoutView",
       "align_content": null,
       "align_items": null,
       "align_self": null,
       "border": null,
       "bottom": null,
       "display": null,
       "flex": null,
       "flex_flow": null,
       "grid_area": null,
       "grid_auto_columns": null,
       "grid_auto_flow": null,
       "grid_auto_rows": null,
       "grid_column": null,
       "grid_gap": null,
       "grid_row": null,
       "grid_template_areas": null,
       "grid_template_columns": null,
       "grid_template_rows": null,
       "height": null,
       "justify_content": null,
       "justify_items": null,
       "left": null,
       "margin": null,
       "max_height": null,
       "max_width": null,
       "min_height": null,
       "min_width": null,
       "object_fit": null,
       "object_position": null,
       "order": null,
       "overflow": null,
       "overflow_x": null,
       "overflow_y": null,
       "padding": null,
       "right": null,
       "top": null,
       "visibility": null,
       "width": null
      }
     },
     "c24c7036e2ce430b98dd992307a8aa92": {
      "model_module": "@jupyter-widgets/controls",
      "model_module_version": "1.5.0",
      "model_name": "VBoxModel",
      "state": {
       "_dom_classes": [
        "widget-interact"
       ],
       "_model_module": "@jupyter-widgets/controls",
       "_model_module_version": "1.5.0",
       "_model_name": "VBoxModel",
       "_view_count": null,
       "_view_module": "@jupyter-widgets/controls",
       "_view_module_version": "1.5.0",
       "_view_name": "VBoxView",
       "box_style": "",
       "children": [
        "IPY_MODEL_6e8ff778989f4724a96bc66efc9dc29d",
        "IPY_MODEL_fae8fbc196054b0da7e7a76ec1106272"
       ],
       "layout": "IPY_MODEL_3984603d140f4245ae402c3abf88710a"
      }
     },
     "c41a34711a5f4f5c84895d51d23607e6": {
      "model_module": "@jupyter-widgets/controls",
      "model_module_version": "1.5.0",
      "model_name": "VBoxModel",
      "state": {
       "_dom_classes": [
        "widget-interact"
       ],
       "_model_module": "@jupyter-widgets/controls",
       "_model_module_version": "1.5.0",
       "_model_name": "VBoxModel",
       "_view_count": null,
       "_view_module": "@jupyter-widgets/controls",
       "_view_module_version": "1.5.0",
       "_view_name": "VBoxView",
       "box_style": "",
       "children": [
        "IPY_MODEL_40cea4dd9a854916b0a7036a2a961e3d",
        "IPY_MODEL_2b5d38d7b2774008a7eeb84c37bcfb1a",
        "IPY_MODEL_61b17c1656c6477693ff3ec0db2c5844",
        "IPY_MODEL_63d0e481df73436bb8cbe263dac07a3d",
        "IPY_MODEL_f0171695805543d0b868ef4dc1e86052"
       ],
       "layout": "IPY_MODEL_ecb024e32052401db633017aa0511550"
      }
     },
     "dfdbe538295c49f9ab55220d1d4c0de2": {
      "model_module": "@jupyter-widgets/controls",
      "model_module_version": "1.5.0",
      "model_name": "FloatSliderModel",
      "state": {
       "_dom_classes": [],
       "_model_module": "@jupyter-widgets/controls",
       "_model_module_version": "1.5.0",
       "_model_name": "FloatSliderModel",
       "_view_count": null,
       "_view_module": "@jupyter-widgets/controls",
       "_view_module_version": "1.5.0",
       "_view_name": "FloatSliderView",
       "continuous_update": true,
       "description": "m1",
       "description_tooltip": null,
       "disabled": false,
       "layout": "IPY_MODEL_4201a1f5e7e24c68b9d8e54e47d28aad",
       "max": 10,
       "min": 5,
       "orientation": "horizontal",
       "readout": true,
       "readout_format": ".2f",
       "step": 0.5,
       "style": "IPY_MODEL_aea352b1772c4625aae4c2793d43295c",
       "value": 7.5
      }
     },
     "e6bd73b7f70147228df681be89a514dc": {
      "model_module": "@jupyter-widgets/controls",
      "model_module_version": "1.5.0",
      "model_name": "VBoxModel",
      "state": {
       "_dom_classes": [
        "widget-interact"
       ],
       "_model_module": "@jupyter-widgets/controls",
       "_model_module_version": "1.5.0",
       "_model_name": "VBoxModel",
       "_view_count": null,
       "_view_module": "@jupyter-widgets/controls",
       "_view_module_version": "1.5.0",
       "_view_name": "VBoxView",
       "box_style": "",
       "children": [
        "IPY_MODEL_dfdbe538295c49f9ab55220d1d4c0de2",
        "IPY_MODEL_5f42b0854cd24b25a613131fa6af4a63",
        "IPY_MODEL_5328932ead3145c2884c7a9eb24f5e62",
        "IPY_MODEL_6a9da3a29b25419eb33c946c4347212f",
        "IPY_MODEL_38e20eaaa9024a7092c43257bf6e5a68"
       ],
       "layout": "IPY_MODEL_9941654d582e4a399135e4e2630ef016"
      }
     },
     "ea5aed6a83894ad0a4568fa111331625": {
      "model_module": "@jupyter-widgets/controls",
      "model_module_version": "1.5.0",
      "model_name": "SliderStyleModel",
      "state": {
       "_model_module": "@jupyter-widgets/controls",
       "_model_module_version": "1.5.0",
       "_model_name": "SliderStyleModel",
       "_view_count": null,
       "_view_module": "@jupyter-widgets/base",
       "_view_module_version": "1.2.0",
       "_view_name": "StyleView",
       "description_width": "",
       "handle_color": null
      }
     },
     "ecb024e32052401db633017aa0511550": {
      "model_module": "@jupyter-widgets/base",
      "model_module_version": "1.2.0",
      "model_name": "LayoutModel",
      "state": {
       "_model_module": "@jupyter-widgets/base",
       "_model_module_version": "1.2.0",
       "_model_name": "LayoutModel",
       "_view_count": null,
       "_view_module": "@jupyter-widgets/base",
       "_view_module_version": "1.2.0",
       "_view_name": "LayoutView",
       "align_content": null,
       "align_items": null,
       "align_self": null,
       "border": null,
       "bottom": null,
       "display": null,
       "flex": null,
       "flex_flow": null,
       "grid_area": null,
       "grid_auto_columns": null,
       "grid_auto_flow": null,
       "grid_auto_rows": null,
       "grid_column": null,
       "grid_gap": null,
       "grid_row": null,
       "grid_template_areas": null,
       "grid_template_columns": null,
       "grid_template_rows": null,
       "height": null,
       "justify_content": null,
       "justify_items": null,
       "left": null,
       "margin": null,
       "max_height": null,
       "max_width": null,
       "min_height": null,
       "min_width": null,
       "object_fit": null,
       "object_position": null,
       "order": null,
       "overflow": null,
       "overflow_x": null,
       "overflow_y": null,
       "padding": null,
       "right": null,
       "top": null,
       "visibility": null,
       "width": null
      }
     },
     "ee15c3b7c9e84f62b4e1faab168a87b6": {
      "model_module": "@jupyter-widgets/base",
      "model_module_version": "1.2.0",
      "model_name": "LayoutModel",
      "state": {
       "_model_module": "@jupyter-widgets/base",
       "_model_module_version": "1.2.0",
       "_model_name": "LayoutModel",
       "_view_count": null,
       "_view_module": "@jupyter-widgets/base",
       "_view_module_version": "1.2.0",
       "_view_name": "LayoutView",
       "align_content": null,
       "align_items": null,
       "align_self": null,
       "border": null,
       "bottom": null,
       "display": null,
       "flex": null,
       "flex_flow": null,
       "grid_area": null,
       "grid_auto_columns": null,
       "grid_auto_flow": null,
       "grid_auto_rows": null,
       "grid_column": null,
       "grid_gap": null,
       "grid_row": null,
       "grid_template_areas": null,
       "grid_template_columns": null,
       "grid_template_rows": null,
       "height": null,
       "justify_content": null,
       "justify_items": null,
       "left": null,
       "margin": null,
       "max_height": null,
       "max_width": null,
       "min_height": null,
       "min_width": null,
       "object_fit": null,
       "object_position": null,
       "order": null,
       "overflow": null,
       "overflow_x": null,
       "overflow_y": null,
       "padding": null,
       "right": null,
       "top": null,
       "visibility": null,
       "width": null
      }
     },
     "ee9177e774d7450f863ecaca7c8c150a": {
      "model_module": "@jupyter-widgets/base",
      "model_module_version": "1.2.0",
      "model_name": "LayoutModel",
      "state": {
       "_model_module": "@jupyter-widgets/base",
       "_model_module_version": "1.2.0",
       "_model_name": "LayoutModel",
       "_view_count": null,
       "_view_module": "@jupyter-widgets/base",
       "_view_module_version": "1.2.0",
       "_view_name": "LayoutView",
       "align_content": null,
       "align_items": null,
       "align_self": null,
       "border": null,
       "bottom": null,
       "display": null,
       "flex": null,
       "flex_flow": null,
       "grid_area": null,
       "grid_auto_columns": null,
       "grid_auto_flow": null,
       "grid_auto_rows": null,
       "grid_column": null,
       "grid_gap": null,
       "grid_row": null,
       "grid_template_areas": null,
       "grid_template_columns": null,
       "grid_template_rows": null,
       "height": null,
       "justify_content": null,
       "justify_items": null,
       "left": null,
       "margin": null,
       "max_height": null,
       "max_width": null,
       "min_height": null,
       "min_width": null,
       "object_fit": null,
       "object_position": null,
       "order": null,
       "overflow": null,
       "overflow_x": null,
       "overflow_y": null,
       "padding": null,
       "right": null,
       "top": null,
       "visibility": null,
       "width": null
      }
     },
     "f0171695805543d0b868ef4dc1e86052": {
      "model_module": "@jupyter-widgets/output",
      "model_module_version": "1.0.0",
      "model_name": "OutputModel",
      "state": {
       "_dom_classes": [],
       "_model_module": "@jupyter-widgets/output",
       "_model_module_version": "1.0.0",
       "_model_name": "OutputModel",
       "_view_count": null,
       "_view_module": "@jupyter-widgets/output",
       "_view_module_version": "1.0.0",
       "_view_name": "OutputView",
       "layout": "IPY_MODEL_16191c7bd4294856ae6f7d7ab9e2bef9",
       "msg_id": "",
       "outputs": []
      }
     },
     "fae8fbc196054b0da7e7a76ec1106272": {
      "model_module": "@jupyter-widgets/output",
      "model_module_version": "1.0.0",
      "model_name": "OutputModel",
      "state": {
       "_dom_classes": [],
       "_model_module": "@jupyter-widgets/output",
       "_model_module_version": "1.0.0",
       "_model_name": "OutputModel",
       "_view_count": null,
       "_view_module": "@jupyter-widgets/output",
       "_view_module_version": "1.0.0",
       "_view_name": "OutputView",
       "layout": "IPY_MODEL_1ba4c1d94f65462192ffcb9f0a22b848",
       "msg_id": "",
       "outputs": []
      }
     }
    },
    "version_major": 2,
    "version_minor": 0
   }
  }
 },
 "nbformat": 4,
 "nbformat_minor": 4
}
